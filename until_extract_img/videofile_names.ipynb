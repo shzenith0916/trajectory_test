{
 "cells": [
  {
   "cell_type": "markdown",
   "metadata": {},
   "source": [
    "# 외부하드에서 컴퓨터로 SF,YP 비디오 영상 옮기기 "
   ]
  },
  {
   "cell_type": "code",
   "execution_count": 1,
   "metadata": {},
   "outputs": [
    {
     "data": {
      "text/plain": [
       "'/home/rsrehab/AKAS_Test'"
      ]
     },
     "execution_count": 1,
     "metadata": {},
     "output_type": "execute_result"
    }
   ],
   "source": [
    "import os\n",
    "import shutil\n",
    "os.getcwd()"
   ]
  },
  {
   "cell_type": "code",
   "execution_count": 13,
   "metadata": {},
   "outputs": [],
   "source": [
    "# Define the root directory to search and the destination directory for copying\n",
    "\n",
    "origin_dir = os.getcwd() + '/extract_data/vfss/23년 3월'  # Update this path\n",
    "final_dir = os.getcwd() + '/extract_data/3월'"
   ]
  },
  {
   "cell_type": "code",
   "execution_count": 3,
   "metadata": {},
   "outputs": [],
   "source": [
    "def copy_criteria(filename):\n",
    "    \"\"\"Check if the file name meets the criteria.\"\"\"\n",
    "    # File name contains \"SF\" or \"YP\", does not contain \"AP\", \"(Rt rot)\", or \"(Lt rot)\"\n",
    "    return (\"SF\" in filename or \"YP\" in filename) and all(x not in filename for x in [\"AP\", \"(Rt rot)\",  \"(Lt rot)\", \"fail\"])"
   ]
  },
  {
   "cell_type": "markdown",
   "metadata": {},
   "source": [
    "- os.makedirs\n",
    "    - exist_ok라는 파라미터를 True로 하면 해당 디렉토리가 기존에 존재하면 에러발생 없이 넘어가고, 없을 경우에만 생성합니다.\n",
    "    - 반대로, exist_ok를 True로 설정하지 않았을 때 이미 해당 디렉토리가 존재하는 경우에는 exception에러가 뜨게 됩니다.\n",
    "- 관련 레퍼런스: https://minimin2.tistory.com/40\n",
    "<br>\n",
    "- shutil.copy(src, dst)\n",
    "    - shutil은 파일을 복사 및 이동할 때 유용한 모듈\n",
    "    - copy2 는 copyfile을 하고 난 후, 권한 및 메타데이터까지 복사하는 개념\n",
    "- 관련 레퍼런스: \n",
    "    - https://anweh.tistory.com/29\n",
    "    - https://toramko.tistory.com/entry/python-파이썬-파일폴더-복사-shutil-copy-copy2-copyfile-copytree"
   ]
  },
  {
   "cell_type": "code",
   "execution_count": 4,
   "metadata": {},
   "outputs": [],
   "source": [
    "def copy_files(root_dir, dest_dir):\n",
    "    \"\"\"Copy files from root directory to destination directory based on criteria.\"\"\"\n",
    "    \n",
    "    for (root_dir, dirs, filenames) in os.walk(root_dir): # os.walk returns 3 variables: root, dir, files \n",
    "        for filename in filenames:\n",
    "            if copy_criteria(filename): \n",
    "                \n",
    "                source_path = os.path.join(root_dir, filename)\n",
    "                destination_path = os.path.join(dest_dir, filename)\n",
    "\n",
    "                # Ensure the destination directory exists\n",
    "                os.makedirs(dest_dir, exist_ok=True)\n",
    "\n",
    "                # Copy the file\n",
    "                shutil.copy2(source_path, destination_path)\n",
    "                print(f\"Copied: {source_path} to {destination_path}\")\n"
   ]
  },
  {
   "cell_type": "code",
   "execution_count": 5,
   "metadata": {},
   "outputs": [],
   "source": [
    "# Run the function\n",
    "copy_files(origin_dir, final_dir)"
   ]
  },
  {
   "cell_type": "markdown",
   "metadata": {},
   "source": [
    "# 비디오 파일이름 txt 파일로 만들기\n",
    "- Onedrive에 있는 엑셀에 붙여넣기 위해 txt 파일 생성"
   ]
  },
  {
   "cell_type": "markdown",
   "metadata": {},
   "source": [
    "### version 1"
   ]
  },
  {
   "cell_type": "code",
   "execution_count": 1,
   "metadata": {},
   "outputs": [],
   "source": [
    "def copy_criteria(filename):\n",
    "    \"\"\"Check if the file name meets the criteria.\"\"\"\n",
    "    # File name contains \"SF\" or \"YP\", does not contain \"AP\", \"(Rt rot)\", or \"(Lt rot)\"\n",
    "    return (\"SF\" in filename or \"YP\" in filename) and all(x not in filename for x in [\"AP\", \"(Rt rot)\",  \"(Lt rot)\", \"fail\"])"
   ]
  },
  {
   "cell_type": "code",
   "execution_count": 6,
   "metadata": {},
   "outputs": [],
   "source": [
    "import os\n",
    "\n",
    "def save_filenames_to_txt(target_dir, txt_name):\n",
    "    \"\"\"Save all filenames in the target directory to a text file.\"\"\"\n",
    "    \n",
    "    output_file = os.path.join(target_dir, txt_name)\n",
    "    \n",
    "    with open(output_file, 'w') as file:\n",
    "        filenames = os.listdir(target_dir)\n",
    "        for filename in filenames:\n",
    "            if copy_criteria(filename):\n",
    "                file.write(filename + '\\n')\n",
    "        \n",
    "    print(f\"Filenames have been saved to {output_file}\")"
   ]
  },
  {
   "cell_type": "code",
   "execution_count": 9,
   "metadata": {},
   "outputs": [
    {
     "name": "stdout",
     "output_type": "stream",
     "text": [
      "Filenames have been saved to /home/rsrehab/AKAS_Test/4월_SF_YP\\video_list.txt\n"
     ]
    }
   ],
   "source": [
    "# Save filenames in destination directory to a text file\n",
    "save_filenames_to_txt(final_dir, \"video_list.txt\")"
   ]
  },
  {
   "cell_type": "markdown",
   "metadata": {},
   "source": [
    "### version 2"
   ]
  },
  {
   "cell_type": "code",
   "execution_count": null,
   "metadata": {},
   "outputs": [],
   "source": [
    "import os \n",
    "\n",
    "video_dir = \"//mnt//e//VFSS영상//2023년//23년 1월\"\n",
    "print(video_dir)\n",
    "file_type = \"*.avi\"\n",
    "\n",
    "for subdir in os.listdir(video_dir):\n",
    "    print(os.path.join(video_dir, subdir))"
   ]
  },
  {
   "cell_type": "code",
   "execution_count": null,
   "metadata": {},
   "outputs": [],
   "source": [
    "for subdir in os.listdir(video_dir): # subdir -> 230103, 230104\n",
    "    subdir_path = os.path.join(video_dir, subdir)\n",
    "    print(f'video sub directory {subdir_path}')\n",
    "\n",
    "    if os.path.isdir(subdir_path): \n",
    "\n",
    "        for subsub_dir in os.listdir(subdir_path):\n",
    "            subsub_dir_path = os.path.join(subdir_path, subsub_dir)\n",
    "            print(f'video sub sub directory {subsub_dir_path}')\n",
    "\n",
    "# os.path.isdir function see xps file as a directory...but it cannot be skipped. Otherwise, gets an error. "
   ]
  },
  {
   "cell_type": "code",
   "execution_count": null,
   "metadata": {},
   "outputs": [],
   "source": [
    "import os \n",
    "\n",
    "output_txt_name = \"video_list_23년1월_revise.txt\"\n",
    "\n",
    "with open(output_txt_name, \"w\",) as f:\n",
    "\n",
    "    for subdir in os.listdir(video_dir): \n",
    "        subdir_path = os.path.join(video_dir, subdir)\n",
    "        #print(f'video sub directory {subdir_path}')\n",
    "        \n",
    "        for subsub_dir in os.listdir(subdir_path):\n",
    "            subsub_dir_path = os.path.join(subdir_path, subsub_dir)\n",
    "            #print(f'video sub sub directory {subsub_dir_path}')\n",
    "            \n",
    "            if os.path.isdir(subsub_dir_path):\n",
    "                for file in os.listdir(subsub_dir_path):\n",
    "                    file_path = os.path.join(subsub_dir_path, file)\n",
    "\n",
    "                    # Check if file_path contains \"SF\" or \"YP\" and ends with \".avi\"\n",
    "                    if copy_criteria(file_path):\n",
    "                        print(f'file path including \"SF\" or \"YP\" is:  \"\"{file_path}\"\" ')\n",
    "                        f.write(file_path + \"\\n\")"
   ]
  },
  {
   "cell_type": "markdown",
   "metadata": {},
   "source": [
    "# 이미지 추출이 완료된 동영상을 로컬 Ubutu AKAS_TEST/data/video_data에서 제거"
   ]
  },
  {
   "cell_type": "code",
   "execution_count": null,
   "metadata": {},
   "outputs": [],
   "source": [
    "# Path to the directory of extracted images\n",
    "folder_path1 = 'z:\\\\home\\\\sh_rsrehab\\\\AKAS_Test\\\\data\\\\extract_img\\\\extracted_images_20240115'\n",
    "\n",
    "\n",
    "# List all folders(a folder of extracted images from a video file) in the specified directory\n",
    "folder_names_in_directory1 = [name for name in os.listdir(\n",
    "    folder_path1) if os.path.isdir(os.path.join(folder_path1, name))]\n",
    "\n",
    "folder_names_in_directory1"
   ]
  },
  {
   "cell_type": "code",
   "execution_count": null,
   "metadata": {},
   "outputs": [],
   "source": [
    "# Path to the directory of containing avi video files\n",
    "folder_path2 = 'z:\\\\home\\\\sh_rsrehab\\\\AKAS_Test\\\\data\\\\video_data\\\\23년1월'\n",
    "\n",
    "\n",
    "# List all vidoe files in the specified directory\n",
    "folder_names_in_directory2 = [name for name in os.listdir(folder_path2)]\n",
    "\n",
    "folder_names_in_directory2"
   ]
  },
  {
   "cell_type": "code",
   "execution_count": null,
   "metadata": {},
   "outputs": [],
   "source": [
    "# Iterate over each file in folder_path2\n",
    "for file_name in os.listdir(folder_path2):\n",
    "    # Check if the .avi file in folder_path2 is in the folder_names_in_directory1 list\n",
    "    if file_name in folder_names_in_directory1:\n",
    "        \n",
    "        # Construct the full path to the file\n",
    "        file_path = os.path.join(folder_path2, file_name)\n",
    "        # Remove the file\n",
    "        os.remove(file_path)\n",
    "        print(f'Removed {file_name}')"
   ]
  }
 ],
 "metadata": {
  "kernelspec": {
   "display_name": "Python 3",
   "language": "python",
   "name": "python3"
  },
  "language_info": {
   "codemirror_mode": {
    "name": "ipython",
    "version": 3
   },
   "file_extension": ".py",
   "mimetype": "text/x-python",
   "name": "python",
   "nbconvert_exporter": "python",
   "pygments_lexer": "ipython3",
   "version": "3.8.10"
  }
 },
 "nbformat": 4,
 "nbformat_minor": 2
}
