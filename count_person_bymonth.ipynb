{
 "cells": [
  {
   "cell_type": "code",
   "execution_count": 3,
   "metadata": {},
   "outputs": [
    {
     "name": "stdout",
     "output_type": "stream",
     "text": [
      "Collecting openpyxl\n",
      "  Downloading openpyxl-3.1.2-py2.py3-none-any.whl (249 kB)\n",
      "\u001b[2K     \u001b[90m━━━━━━━━━━━━━━━━━━━━━━━━━━━━━━━━━━━━━━━\u001b[0m \u001b[32m250.0/250.0 kB\u001b[0m \u001b[31m6.1 MB/s\u001b[0m eta \u001b[36m0:00:00\u001b[0m00:01\u001b[0m\n",
      "\u001b[?25hCollecting et-xmlfile (from openpyxl)\n",
      "  Downloading et_xmlfile-1.1.0-py3-none-any.whl (4.7 kB)\n",
      "Installing collected packages: et-xmlfile, openpyxl\n",
      "Successfully installed et-xmlfile-1.1.0 openpyxl-3.1.2\n",
      "Note: you may need to restart the kernel to use updated packages.\n"
     ]
    }
   ],
   "source": [
    "#%pip install pandas\n",
    "%pip install openpyxl"
   ]
  },
  {
   "cell_type": "code",
   "execution_count": 21,
   "metadata": {},
   "outputs": [
    {
     "data": {
      "text/plain": [
       "'/mnt/c/Users/USER'"
      ]
     },
     "execution_count": 21,
     "metadata": {},
     "output_type": "execute_result"
    }
   ],
   "source": [
    "import os\n",
    "os.getcwd()\n",
    "os.chdir(\"/mnt/c/Users/USER\")\n",
    "os.getcwd()"
   ]
  },
  {
   "cell_type": "code",
   "execution_count": 35,
   "metadata": {},
   "outputs": [
    {
     "data": {
      "text/html": [
       "<div>\n",
       "<style scoped>\n",
       "    .dataframe tbody tr th:only-of-type {\n",
       "        vertical-align: middle;\n",
       "    }\n",
       "\n",
       "    .dataframe tbody tr th {\n",
       "        vertical-align: top;\n",
       "    }\n",
       "\n",
       "    .dataframe thead th {\n",
       "        text-align: right;\n",
       "    }\n",
       "</style>\n",
       "<table border=\"1\" class=\"dataframe\">\n",
       "  <thead>\n",
       "    <tr style=\"text-align: right;\">\n",
       "      <th></th>\n",
       "      <th>영상파일명</th>\n",
       "      <th>FPS</th>\n",
       "      <th>삼킴 시작(초)</th>\n",
       "      <th>삼킴 끝(초)</th>\n",
       "      <th>데이터분리</th>\n",
       "      <th>흡인</th>\n",
       "      <th>PAS</th>\n",
       "      <th>vallecular</th>\n",
       "      <th>음식물텍스트추출</th>\n",
       "      <th>음식물 타입</th>\n",
       "      <th>비고</th>\n",
       "    </tr>\n",
       "  </thead>\n",
       "  <tbody>\n",
       "    <tr>\n",
       "      <th>0</th>\n",
       "      <td>Z:\\home\\sh_rsrehab\\AKAS_Test\\data\\video_data\\2...</td>\n",
       "      <td>60.0</td>\n",
       "      <td>17</td>\n",
       "      <td>19</td>\n",
       "      <td>train</td>\n",
       "      <td>NaN</td>\n",
       "      <td>7</td>\n",
       "      <td>1</td>\n",
       "      <td>SF.avi</td>\n",
       "      <td>SF</td>\n",
       "      <td>영상퀄리티로 데이터 제외처리</td>\n",
       "    </tr>\n",
       "    <tr>\n",
       "      <th>1</th>\n",
       "      <td>Z:\\home\\sh_rsrehab\\AKAS_Test\\data\\video_data\\2...</td>\n",
       "      <td>NaN</td>\n",
       "      <td>NaN</td>\n",
       "      <td>NaN</td>\n",
       "      <td>NaN</td>\n",
       "      <td>NaN</td>\n",
       "      <td>NaN</td>\n",
       "      <td>NaN</td>\n",
       "      <td>NaN</td>\n",
       "      <td>NaN</td>\n",
       "      <td>영상퀄리티로 데이터 제외처리</td>\n",
       "    </tr>\n",
       "    <tr>\n",
       "      <th>2</th>\n",
       "      <td>Z:\\home\\sh_rsrehab\\AKAS_Test\\data\\video_data\\2...</td>\n",
       "      <td>NaN</td>\n",
       "      <td>NaN</td>\n",
       "      <td>NaN</td>\n",
       "      <td>NaN</td>\n",
       "      <td>NaN</td>\n",
       "      <td>NaN</td>\n",
       "      <td>NaN</td>\n",
       "      <td>NaN</td>\n",
       "      <td>NaN</td>\n",
       "      <td>영상퀄리티로 데이터 제외처리</td>\n",
       "    </tr>\n",
       "    <tr>\n",
       "      <th>3</th>\n",
       "      <td>Z:\\home\\sh_rsrehab\\AKAS_Test\\data\\video_data\\2...</td>\n",
       "      <td>NaN</td>\n",
       "      <td>NaN</td>\n",
       "      <td>NaN</td>\n",
       "      <td>NaN</td>\n",
       "      <td>NaN</td>\n",
       "      <td>NaN</td>\n",
       "      <td>NaN</td>\n",
       "      <td>NaN</td>\n",
       "      <td>NaN</td>\n",
       "      <td>영상퀄리티로 데이터 제외처리</td>\n",
       "    </tr>\n",
       "    <tr>\n",
       "      <th>4</th>\n",
       "      <td>Z:\\home\\sh_rsrehab\\AKAS_Test\\data\\video_data\\2...</td>\n",
       "      <td>NaN</td>\n",
       "      <td>NaN</td>\n",
       "      <td>NaN</td>\n",
       "      <td>NaN</td>\n",
       "      <td>NaN</td>\n",
       "      <td>NaN</td>\n",
       "      <td>NaN</td>\n",
       "      <td>NaN</td>\n",
       "      <td>NaN</td>\n",
       "      <td>정면 데이터로 적절치 않은 데이터. 예외 처리</td>\n",
       "    </tr>\n",
       "  </tbody>\n",
       "</table>\n",
       "</div>"
      ],
      "text/plain": [
       "                                               영상파일명   FPS 삼킴 시작(초) 삼킴 끝(초)  \\\n",
       "0  Z:\\home\\sh_rsrehab\\AKAS_Test\\data\\video_data\\2...  60.0       17      19   \n",
       "1  Z:\\home\\sh_rsrehab\\AKAS_Test\\data\\video_data\\2...   NaN      NaN     NaN   \n",
       "2  Z:\\home\\sh_rsrehab\\AKAS_Test\\data\\video_data\\2...   NaN      NaN     NaN   \n",
       "3  Z:\\home\\sh_rsrehab\\AKAS_Test\\data\\video_data\\2...   NaN      NaN     NaN   \n",
       "4  Z:\\home\\sh_rsrehab\\AKAS_Test\\data\\video_data\\2...   NaN      NaN     NaN   \n",
       "\n",
       "   데이터분리   흡인  PAS vallecular 음식물텍스트추출 음식물 타입                         비고  \n",
       "0  train  NaN    7          1   SF.avi     SF            영상퀄리티로 데이터 제외처리  \n",
       "1    NaN  NaN  NaN        NaN      NaN    NaN            영상퀄리티로 데이터 제외처리  \n",
       "2    NaN  NaN  NaN        NaN      NaN    NaN            영상퀄리티로 데이터 제외처리  \n",
       "3    NaN  NaN  NaN        NaN      NaN    NaN            영상퀄리티로 데이터 제외처리  \n",
       "4    NaN  NaN  NaN        NaN      NaN    NaN  정면 데이터로 적절치 않은 데이터. 예외 처리  "
      ]
     },
     "execution_count": 35,
     "metadata": {},
     "output_type": "execute_result"
    }
   ],
   "source": [
    "import pandas as pd\n",
    "import re\n",
    "\n",
    "# https://mizykk.tistory.com/94 \n",
    "\n",
    "xlsx_data = \"./Downloads/VFSS_residue_image_list_김소현.xlsx\"\n",
    "data = pd.read_excel(xlsx_data, engine='openpyxl',\n",
    "                     sheet_name='VFSS_2023년1월영상')\n",
    "\n",
    "# Let's assume the file content is loaded into the DataFrame\n",
    "# For the purpose of this example, we'll create a DataFrame with similar patterns as seen in the image\n",
    "# Create a DataFrame\n",
    "df = pd.DataFrame(data)\n",
    "df.head()"
   ]
  },
  {
   "cell_type": "code",
   "execution_count": 36,
   "metadata": {},
   "outputs": [],
   "source": [
    "df['Name'] = df['영상파일명']"
   ]
  },
  {
   "cell_type": "code",
   "execution_count": 25,
   "metadata": {},
   "outputs": [],
   "source": [
    "def extract_name(path):\n",
    "    # This regex looks for a backslash followed by any combination of letters (Korean included), numbers, and underscores\n",
    "    # It stops when it finds a space followed by an open parenthesis and a number\n",
    "    # Make sure path is a string, if not, return None\n",
    "    if not isinstance(path, str):\n",
    "        return None\n",
    "    # This regex looks for a backslash followed by any combination of letters (Korean included), numbers, and underscores\n",
    "    # It stops when it finds a space followed by an open parenthesis and a number\n",
    "    match = re.search(r'\\\\([가-힣A-Za-z0-9_]+)\\s+\\(\\d+\\)', path)\n",
    "    return match.group(1) if match else None"
   ]
  },
  {
   "cell_type": "code",
   "execution_count": 37,
   "metadata": {},
   "outputs": [
    {
     "data": {
      "text/plain": [
       "array(['10090529_이추자', '11659147_김창환', '14144536_최해식', '15136305_김근배',\n",
       "       '15617688_김복엽', '16016721_전동석', '17043074_최정일', '17239200_김광호',\n",
       "       '17289926_이호승', '18511486_박덕자', '21828027_배재희', '21829190_박근수',\n",
       "       '22672506_남궁명숙', '23476509_배종자', '24707244_김태식', '27794951_이병복',\n",
       "       '28640305_오경희', '29998470_정연수', '32388815_차선옥', '32489826_심영자',\n",
       "       '32629028_김서영', '32864511_정진희', '33034793_신삼남', '33568722_김민서',\n",
       "       '34239236_윤옥자', '35003005_김주숙', '35195113_한보혜', '35351184_김점용',\n",
       "       '36192403_백정분', '10190289_최난지', '10378577_황선호', '10402122_장봉희',\n",
       "       '11393524_김인환', '11879073_김용기', '12168923_김동기', '12475366_임란전',\n",
       "       '13034720_이신성', '13732000_장영규', '14039689_김명수', '14053700_김희억',\n",
       "       '14597572_김현숙', '14819861_임순자', '16049372_오규삼', '16736133_이재환',\n",
       "       '17014160_박기순', '17020886_정영숙', '18110667_한상철', '19720106_성선영',\n",
       "       '20585581_이사용', '21080351_양재웅', '21120204_황윤자', '22767637_김남웅',\n",
       "       '24340247_강완희', '24490159_김우연', '24614506_이경복', None,\n",
       "       '24929835_박운용', '25024694_현윤옥', '25906671_윤원근', '25918605_설창훈',\n",
       "       '27620175_이재욱', '27927869_김준자', '29101795_나다순', '29268744_한기주',\n",
       "       '29514050_임필순', '30867343_이은동', '30926994_최정수', '31584261_홍동화',\n",
       "       '33281599_우명자', '33481793_우태주', '33911441_인수자', '34033096_김용인',\n",
       "       '34287730_노유정', '34659164_김효섭', '35309448_장형열', '35795070_김혜자',\n",
       "       '35861845_구한비', '35936059_강윤진', '36431696_목영배', '36485338_최기춘',\n",
       "       '36536313_김진순', '36583364_안창훈', '36634286_박동백', '36663936_최원철',\n",
       "       '36723605_임옥순', '36774300_최윤순', '36785920_박영호', '36814347_최현주',\n",
       "       '36874363_장찬울', '36889017_김상돈', '36915644_용종심', '36944611_정은옥'],\n",
       "      dtype=object)"
      ]
     },
     "execution_count": 37,
     "metadata": {},
     "output_type": "execute_result"
    }
   ],
   "source": [
    "# Apply the function to extract names\n",
    "df['Name'] = df['영상파일명'].apply(extract_name)\n",
    "\n",
    "# Now, let's get the distinct names\n",
    "distinct_names = df['Name'].unique()\n",
    "distinct_names"
   ]
  },
  {
   "cell_type": "code",
   "execution_count": 38,
   "metadata": {},
   "outputs": [
    {
     "data": {
      "text/plain": [
       "92"
      ]
     },
     "execution_count": 38,
     "metadata": {},
     "output_type": "execute_result"
    }
   ],
   "source": [
    "# Return the distinct names and their count\n",
    "len(distinct_names)"
   ]
  },
  {
   "cell_type": "code",
   "execution_count": 39,
   "metadata": {},
   "outputs": [
    {
     "data": {
      "text/html": [
       "<div>\n",
       "<style scoped>\n",
       "    .dataframe tbody tr th:only-of-type {\n",
       "        vertical-align: middle;\n",
       "    }\n",
       "\n",
       "    .dataframe tbody tr th {\n",
       "        vertical-align: top;\n",
       "    }\n",
       "\n",
       "    .dataframe thead th {\n",
       "        text-align: right;\n",
       "    }\n",
       "</style>\n",
       "<table border=\"1\" class=\"dataframe\">\n",
       "  <thead>\n",
       "    <tr style=\"text-align: right;\">\n",
       "      <th></th>\n",
       "      <th>영상파일명</th>\n",
       "      <th>FPS</th>\n",
       "      <th>삼킴 시작(초)</th>\n",
       "      <th>삼킴 끝(초)</th>\n",
       "      <th>데이터분리</th>\n",
       "      <th>흡인</th>\n",
       "      <th>PAS</th>\n",
       "      <th>vallecular</th>\n",
       "      <th>음식물텍스트추출</th>\n",
       "      <th>음식물 타입</th>\n",
       "      <th>비고</th>\n",
       "    </tr>\n",
       "  </thead>\n",
       "  <tbody>\n",
       "    <tr>\n",
       "      <th>0</th>\n",
       "      <td>Z:\\home\\sh_rsrehab\\AKAS_Test\\data\\video_data\\2...</td>\n",
       "      <td>60.0</td>\n",
       "      <td>17</td>\n",
       "      <td>19</td>\n",
       "      <td>train</td>\n",
       "      <td>NaN</td>\n",
       "      <td>7</td>\n",
       "      <td>1</td>\n",
       "      <td>SF.avi</td>\n",
       "      <td>SF</td>\n",
       "      <td>영상퀄리티로 데이터 제외처리</td>\n",
       "    </tr>\n",
       "    <tr>\n",
       "      <th>1</th>\n",
       "      <td>Z:\\home\\sh_rsrehab\\AKAS_Test\\data\\video_data\\2...</td>\n",
       "      <td>NaN</td>\n",
       "      <td>NaN</td>\n",
       "      <td>NaN</td>\n",
       "      <td>NaN</td>\n",
       "      <td>NaN</td>\n",
       "      <td>NaN</td>\n",
       "      <td>NaN</td>\n",
       "      <td>NaN</td>\n",
       "      <td>NaN</td>\n",
       "      <td>영상퀄리티로 데이터 제외처리</td>\n",
       "    </tr>\n",
       "    <tr>\n",
       "      <th>2</th>\n",
       "      <td>Z:\\home\\sh_rsrehab\\AKAS_Test\\data\\video_data\\2...</td>\n",
       "      <td>NaN</td>\n",
       "      <td>NaN</td>\n",
       "      <td>NaN</td>\n",
       "      <td>NaN</td>\n",
       "      <td>NaN</td>\n",
       "      <td>NaN</td>\n",
       "      <td>NaN</td>\n",
       "      <td>NaN</td>\n",
       "      <td>NaN</td>\n",
       "      <td>영상퀄리티로 데이터 제외처리</td>\n",
       "    </tr>\n",
       "    <tr>\n",
       "      <th>3</th>\n",
       "      <td>Z:\\home\\sh_rsrehab\\AKAS_Test\\data\\video_data\\2...</td>\n",
       "      <td>NaN</td>\n",
       "      <td>NaN</td>\n",
       "      <td>NaN</td>\n",
       "      <td>NaN</td>\n",
       "      <td>NaN</td>\n",
       "      <td>NaN</td>\n",
       "      <td>NaN</td>\n",
       "      <td>NaN</td>\n",
       "      <td>NaN</td>\n",
       "      <td>영상퀄리티로 데이터 제외처리</td>\n",
       "    </tr>\n",
       "    <tr>\n",
       "      <th>4</th>\n",
       "      <td>Z:\\home\\sh_rsrehab\\AKAS_Test\\data\\video_data\\2...</td>\n",
       "      <td>NaN</td>\n",
       "      <td>NaN</td>\n",
       "      <td>NaN</td>\n",
       "      <td>NaN</td>\n",
       "      <td>NaN</td>\n",
       "      <td>NaN</td>\n",
       "      <td>NaN</td>\n",
       "      <td>NaN</td>\n",
       "      <td>NaN</td>\n",
       "      <td>정면 데이터로 적절치 않은 데이터. 예외 처리</td>\n",
       "    </tr>\n",
       "  </tbody>\n",
       "</table>\n",
       "</div>"
      ],
      "text/plain": [
       "                                               영상파일명   FPS 삼킴 시작(초) 삼킴 끝(초)  \\\n",
       "0  Z:\\home\\sh_rsrehab\\AKAS_Test\\data\\video_data\\2...  60.0       17      19   \n",
       "1  Z:\\home\\sh_rsrehab\\AKAS_Test\\data\\video_data\\2...   NaN      NaN     NaN   \n",
       "2  Z:\\home\\sh_rsrehab\\AKAS_Test\\data\\video_data\\2...   NaN      NaN     NaN   \n",
       "3  Z:\\home\\sh_rsrehab\\AKAS_Test\\data\\video_data\\2...   NaN      NaN     NaN   \n",
       "4  Z:\\home\\sh_rsrehab\\AKAS_Test\\data\\video_data\\2...   NaN      NaN     NaN   \n",
       "\n",
       "   데이터분리   흡인  PAS vallecular 음식물텍스트추출 음식물 타입                         비고  \n",
       "0  train  NaN    7          1   SF.avi     SF            영상퀄리티로 데이터 제외처리  \n",
       "1    NaN  NaN  NaN        NaN      NaN    NaN            영상퀄리티로 데이터 제외처리  \n",
       "2    NaN  NaN  NaN        NaN      NaN    NaN            영상퀄리티로 데이터 제외처리  \n",
       "3    NaN  NaN  NaN        NaN      NaN    NaN            영상퀄리티로 데이터 제외처리  \n",
       "4    NaN  NaN  NaN        NaN      NaN    NaN  정면 데이터로 적절치 않은 데이터. 예외 처리  "
      ]
     },
     "execution_count": 39,
     "metadata": {},
     "output_type": "execute_result"
    }
   ],
   "source": [
    "xlsx_data1 = \"./Downloads/VFSS_residue_image_list_김소현(1).xlsx\"\n",
    "data1 = pd.read_excel(xlsx_data, engine='openpyxl',\n",
    "                     sheet_name='VFSS_2023년1월영상')\n",
    "\n",
    "# Let's assume the file content is loaded into the DataFrame\n",
    "# For the purpose of this example, we'll create a DataFrame with similar patterns as seen in the image\n",
    "# Create a DataFrame\n",
    "df1 = pd.DataFrame(data1)\n",
    "df1.head()"
   ]
  },
  {
   "cell_type": "code",
   "execution_count": 40,
   "metadata": {},
   "outputs": [],
   "source": [
    "df1['Name'] = df1['영상파일명']"
   ]
  },
  {
   "cell_type": "code",
   "execution_count": 41,
   "metadata": {},
   "outputs": [
    {
     "name": "stdout",
     "output_type": "stream",
     "text": [
      "92\n"
     ]
    }
   ],
   "source": [
    "# Apply the function to extract names\n",
    "df1['Name'] = df1['영상파일명'].apply(extract_name)\n",
    "\n",
    "# Now, let's get the distinct names\n",
    "distinct_names1 = df1['Name'].unique()\n",
    "print(len(distinct_names1))"
   ]
  },
  {
   "cell_type": "code",
   "execution_count": null,
   "metadata": {},
   "outputs": [],
   "source": []
  },
  {
   "cell_type": "code",
   "execution_count": null,
   "metadata": {},
   "outputs": [],
   "source": []
  }
 ],
 "metadata": {
  "kernelspec": {
   "display_name": "Python 3",
   "language": "python",
   "name": "python3"
  },
  "language_info": {
   "codemirror_mode": {
    "name": "ipython",
    "version": 3
   },
   "file_extension": ".py",
   "mimetype": "text/x-python",
   "name": "python",
   "nbconvert_exporter": "python",
   "pygments_lexer": "ipython3",
   "version": "3.8.18"
  }
 },
 "nbformat": 4,
 "nbformat_minor": 2
}
