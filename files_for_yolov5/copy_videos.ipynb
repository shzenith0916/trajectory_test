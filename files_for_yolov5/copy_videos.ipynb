{
 "cells": [
  {
   "cell_type": "code",
   "execution_count": null,
   "metadata": {},
   "outputs": [],
   "source": [
    "# -*- coding: utf-8 -*-\n",
    "\n",
    "\n",
    "import os\n",
    "import shutil\n",
    "import pandas as pd\n",
    "\n",
    "print(\"Please type input directory path:\")\n",
    "input_dir = input()\n",
    "origin_dir = input_dir\n",
    "\n",
    "print(\"Please type output directory path:\")\n",
    "output_dir = input()\n",
    "final_dir = output_dir\n",
    "\n",
    "print(\"Please type excel file path:\")\n",
    "excel_path = input()\n",
    "\n",
    "\n",
    "def read_video_names_excel(path):\n",
    "\n",
    "    df = pd.read_excel(path)\n",
    "    return df[\"영상파일명\"].tolist()\n",
    "\n",
    "video_names = read_video_names_excel(excel_path)\n",
    "\n",
    "\n",
    "def copy_files(root_dir, dest_dir, video_names):\n",
    "    \"\"\"Copy files from root directory to destination directory based on Excel file list.\"\"\"\n",
    "    \n",
    "    for root, dirs, filenames in os.walk(root_dir): # Use os.walk since there are multiple folders inside the root\n",
    "        for filename in filenames: \n",
    "            source = os.path.join(root, filename)\n",
    "            destination = os.path.join(dest_dir, filename)\n",
    "            \n",
    "            # Ensure the destination directory exists\n",
    "            os.makedirs(dest_dir, exist_ok=True)\n",
    "            \n",
    "            # Copy the video file\n",
    "            shutil.copy2(source, destination)\n",
    "            print(\"Copied: %s to %s\" % (source, destination))\n",
    "\n",
    "# Run the function\n",
    "copy_files(origin_dir, final_dir, video_names)"
   ]
  }
 ],
 "metadata": {
  "language_info": {
   "name": "python"
  }
 },
 "nbformat": 4,
 "nbformat_minor": 2
}
