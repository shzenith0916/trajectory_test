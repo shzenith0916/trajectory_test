{
 "cells": [
  {
   "cell_type": "code",
   "execution_count": 2,
   "metadata": {},
   "outputs": [
    {
     "data": {
      "text/plain": [
       "'c:\\\\Users\\\\USER\\\\Documents\\\\YOLO8'"
      ]
     },
     "execution_count": 2,
     "metadata": {},
     "output_type": "execute_result"
    }
   ],
   "source": [
    "import os\n",
    "\n",
    "os.getcwd()"
   ]
  },
  {
   "cell_type": "code",
   "execution_count": 3,
   "metadata": {},
   "outputs": [
    {
     "name": "stdout",
     "output_type": "stream",
     "text": [
      "c:\\Users\\USER\\Documents\\YOLO8\\NECK_HYOID\\labels\n"
     ]
    }
   ],
   "source": [
    "root_dir = os.path.join(os.getcwd(), 'NECK_HYOID\\labels')\n",
    "print(root_dir)"
   ]
  },
  {
   "cell_type": "code",
   "execution_count": 4,
   "metadata": {},
   "outputs": [
    {
     "name": "stdout",
     "output_type": "stream",
     "text": [
      "찾은 파일 수: 4188\n"
     ]
    }
   ],
   "source": [
    "import glob\n",
    "\n",
    "files = glob.glob(os.path.join(root_dir, '**', '*.txt'), recursive=True)\n",
    "print(f\"찾은 파일 수: {len(files)}\")"
   ]
  },
  {
   "cell_type": "code",
   "execution_count": 5,
   "metadata": {},
   "outputs": [
    {
     "data": {
      "text/plain": [
       "['4 0.454568 0.514588 0.054167 0.104398\\n',\n",
       " '0 0.292708 0.438889 0.026042 0.038889\\n',\n",
       " '1 0.378385 0.481944 0.047396 0.071296\\n',\n",
       " '1 0.375786 0.559963 0.048948 0.073407\\n',\n",
       " '1 0.377656 0.630468 0.047542 0.083454\\n',\n",
       " '1 0.383888 0.700477 0.051526 0.092435\\n',\n",
       " '1 0.384073 0.390032 0.046500 0.106398\\n']"
      ]
     },
     "execution_count": 5,
     "metadata": {},
     "output_type": "execute_result"
    }
   ],
   "source": [
    "with open(files[1], 'r') as f:\n",
    "    lines = f.readlines()\n",
    "\n",
    "lines"
   ]
  },
  {
   "cell_type": "code",
   "execution_count": 6,
   "metadata": {},
   "outputs": [
    {
     "name": "stdout",
     "output_type": "stream",
     "text": [
      "4 0.454568 0.514588 0.054167 0.104398\n",
      "4\n",
      "0 0.292708 0.438889 0.026042 0.038889\n",
      "0\n",
      "1 0.378385 0.481944 0.047396 0.071296\n",
      "1\n",
      "1 0.375786 0.559963 0.048948 0.073407\n",
      "1\n",
      "1 0.377656 0.630468 0.047542 0.083454\n",
      "1\n",
      "1 0.383888 0.700477 0.051526 0.092435\n",
      "1\n",
      "1 0.384073 0.390032 0.046500 0.106398\n",
      "1\n"
     ]
    }
   ],
   "source": [
    "for line in lines:\n",
    "    print(line.strip())\n",
    "    print(line.strip().split()[0])"
   ]
  },
  {
   "cell_type": "code",
   "execution_count": 8,
   "metadata": {},
   "outputs": [
    {
     "name": "stdout",
     "output_type": "stream",
     "text": [
      "4 0.454568 0.514588 0.054167 0.104398\n",
      "\n",
      "0 0.292708 0.438889 0.026042 0.038889\n",
      "\n",
      "1 0.378385 0.481944 0.047396 0.071296\n",
      "\n",
      "1 0.375786 0.559963 0.048948 0.073407\n",
      "\n",
      "1 0.377656 0.630468 0.047542 0.083454\n",
      "\n",
      "1 0.383888 0.700477 0.051526 0.092435\n",
      "\n",
      "1 0.384073 0.390032 0.046500 0.106398\n",
      "\n"
     ]
    }
   ],
   "source": [
    "for line in lines:\n",
    "    parts = line.strip().split()\n",
    "    if parts[0] in ('0', '1', '4'):\n",
    "        print(line)"
   ]
  },
  {
   "cell_type": "code",
   "execution_count": 9,
   "metadata": {},
   "outputs": [
    {
     "name": "stdout",
     "output_type": "stream",
     "text": [
      "['4 0.454279 0.515083 0.054161 0.104407\\n', '0 0.294276 0.439968 0.026448 0.039565\\n', '1 0.378102 0.484486 0.047443 0.071380\\n', '1 0.375331 0.560130 0.048401 0.073407\\n', '1 0.377596 0.630426 0.047443 0.083593\\n', '1 0.383807 0.700477 0.051448 0.092435\\n', '1 0.383706 0.389870 0.046505 0.106407\\n']\n"
     ]
    }
   ],
   "source": [
    "for file in files:\n",
    "\n",
    "    with open(file, 'r') as f:\n",
    "        lines = f.readlines()\n",
    "\n",
    "    filtered_lines = [line for line in lines if line.strip().split()[0] in ('0', '1', '4')]\n",
    "    print(filtered_lines)\n",
    "\n",
    "    with open(file, 'w') as f:\n",
    "        f.writelines(filtered_lines)\n",
    "    \n",
    "    break"
   ]
  },
  {
   "cell_type": "code",
   "execution_count": 41,
   "metadata": {},
   "outputs": [],
   "source": [
    "def label_file_rewrite(label_file_list):\n",
    "\n",
    "    for file in label_file_list:\n",
    "\n",
    "        with open(file, 'r') as f:\n",
    "            lines = f.readlines()\n",
    "\n",
    "        filtered_lines = [line for line in lines if line.strip().split()[0] in ('0', '1', '4')]  # 레이블이 0,1,4 인 줄만 남기기\n",
    "\n",
    "        with open(file, 'w') as f:\n",
    "            f.writelines(filtered_lines)"
   ]
  },
  {
   "cell_type": "code",
   "execution_count": 42,
   "metadata": {},
   "outputs": [],
   "source": [
    "label_file_rewrite(files)"
   ]
  },
  {
   "cell_type": "code",
   "execution_count": 10,
   "metadata": {},
   "outputs": [
    {
     "name": "stdout",
     "output_type": "stream",
     "text": [
      "4 0.454279 0.515083 0.054161 0.104407\n",
      "\n",
      "0 0.294276 0.439968 0.026448 0.039565\n",
      "\n",
      "1 0.378102 0.484486 0.047443 0.071380\n",
      "\n",
      "1 0.375331 0.560130 0.048401 0.073407\n",
      "\n",
      "1 0.377596 0.630426 0.047443 0.083593\n",
      "\n",
      "1 0.383807 0.700477 0.051448 0.092435\n",
      "\n",
      "1 0.383706 0.389870 0.046505 0.106407\n",
      "\n"
     ]
    }
   ],
   "source": [
    "for line in lines:\n",
    "    if line.strip().split()[0] not in ('2', '3'):\n",
    "        print(line)"
   ]
  },
  {
   "cell_type": "code",
   "execution_count": 11,
   "metadata": {},
   "outputs": [],
   "source": [
    "new_lines = []\n",
    "for line in lines:\n",
    "    parts = line.strip().split()\n",
    "    if parts[0] not in ('2', '3'):  # 레이블이 0,1,4 인 줄만 남기기\n",
    "        if parts[0] == '4':\n",
    "            parts[0] = '2'\n",
    "        new_lines.append(\" \".join(parts))"
   ]
  },
  {
   "cell_type": "code",
   "execution_count": 12,
   "metadata": {},
   "outputs": [
    {
     "data": {
      "text/plain": [
       "['2 0.454279 0.515083 0.054161 0.104407',\n",
       " '0 0.294276 0.439968 0.026448 0.039565',\n",
       " '1 0.378102 0.484486 0.047443 0.071380',\n",
       " '1 0.375331 0.560130 0.048401 0.073407',\n",
       " '1 0.377596 0.630426 0.047443 0.083593',\n",
       " '1 0.383807 0.700477 0.051448 0.092435',\n",
       " '1 0.383706 0.389870 0.046505 0.106407']"
      ]
     },
     "execution_count": 12,
     "metadata": {},
     "output_type": "execute_result"
    }
   ],
   "source": [
    "new_lines"
   ]
  },
  {
   "cell_type": "code",
   "execution_count": 19,
   "metadata": {},
   "outputs": [],
   "source": [
    "def label_file_rewrite(label_file_list):\n",
    "\n",
    "    for file in label_file_list:\n",
    "\n",
    "        with open(file, 'r') as f:\n",
    "            lines = f.readlines()\n",
    "\n",
    "        new_lines = []\n",
    "        for line in lines:\n",
    "            parts = line.strip().split()\n",
    "            if parts[0] not in ('2', '3'):  # 레이블이 0,1,4 인 줄만 남기기\n",
    "                if parts[0] == '4': # 레이블이 4 코인이면,\n",
    "                    parts[0] = '2' # 레이블 숫자를 2로 변경\n",
    "                new_lines.append(\" \".join(parts))\n",
    "\n",
    "        # 필터링되고 변경된 내용으로 파일 덮어쓰기\n",
    "        with open(file, 'w') as f:\n",
    "            f.writelines(new_lines)  # 변경된 내용을 파일에 다시 씀"
   ]
  },
  {
   "cell_type": "code",
   "execution_count": 20,
   "metadata": {},
   "outputs": [],
   "source": [
    "label_file_rewrite(files)\n",
    "\n",
    "# 이렇게 하면, 띄워쓰기가 되지 않음."
   ]
  },
  {
   "cell_type": "code",
   "execution_count": 13,
   "metadata": {},
   "outputs": [
    {
     "data": {
      "text/plain": [
       "['2 0.454279 0.515083 0.054161 0.104407\\n',\n",
       " '0 0.294276 0.439968 0.026448 0.039565\\n',\n",
       " '1 0.378102 0.484486 0.047443 0.071380\\n',\n",
       " '1 0.375331 0.560130 0.048401 0.073407\\n',\n",
       " '1 0.377596 0.630426 0.047443 0.083593\\n',\n",
       " '1 0.383807 0.700477 0.051448 0.092435\\n',\n",
       " '1 0.383706 0.389870 0.046505 0.106407\\n']"
      ]
     },
     "execution_count": 13,
     "metadata": {},
     "output_type": "execute_result"
    }
   ],
   "source": [
    "new_lines = []\n",
    "for line in lines:\n",
    "    parts = line.strip().split()\n",
    "    if parts[0] not in ('2', '3'):  # 레이블이 0,1,4 인 줄만 남기기\n",
    "        if parts[0] == '4':\n",
    "            parts[0] = '2'\n",
    "        new_lines.append(\" \".join(parts) + \"\\n\")  # 변경된 줄을 저장\n",
    "new_lines"
   ]
  },
  {
   "cell_type": "code",
   "execution_count": 14,
   "metadata": {},
   "outputs": [],
   "source": [
    "def label_file_rewrite(label_file_list):\n",
    "\n",
    "    for file in label_file_list:\n",
    "\n",
    "        with open(file, 'r') as f:\n",
    "            lines = f.readlines()\n",
    "\n",
    "        new_lines = []\n",
    "        for line in lines:\n",
    "            parts = line.strip().split()\n",
    "            if parts[0] not in ('2', '3'):  # 레이블이 0,1,4 인 줄만 남기기\n",
    "                if parts[0] == '4':  # 레이블이 4 코인이면,\n",
    "                    parts[0] = '2'  # 레이블 숫자를 2로 변경\n",
    "                new_lines.append(\" \".join(parts) + \"\\n\")\n",
    "\n",
    "        # 필터링되고 변경된 내용으로 파일 덮어쓰기\n",
    "        with open(file, 'w') as f:\n",
    "            f.writelines(new_lines)  # 변경된 내용을 파일에 다시 씀"
   ]
  },
  {
   "cell_type": "code",
   "execution_count": 15,
   "metadata": {},
   "outputs": [],
   "source": [
    "label_file_rewrite(files)"
   ]
  }
 ],
 "metadata": {
  "kernelspec": {
   "display_name": "Python 3",
   "language": "python",
   "name": "python3"
  },
  "language_info": {
   "codemirror_mode": {
    "name": "ipython",
    "version": 3
   },
   "file_extension": ".py",
   "mimetype": "text/x-python",
   "name": "python",
   "nbconvert_exporter": "python",
   "pygments_lexer": "ipython3",
   "version": "3.11.9"
  }
 },
 "nbformat": 4,
 "nbformat_minor": 2
}
