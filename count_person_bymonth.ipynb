{
 "cells": [
  {
   "cell_type": "code",
   "execution_count": 4,
   "metadata": {},
   "outputs": [
    {
     "name": "stdout",
     "output_type": "stream",
     "text": [
      "Collecting openpyxl\n",
      "  Downloading openpyxl-3.1.2-py2.py3-none-any.whl (249 kB)\n",
      "Collecting et-xmlfile\n",
      "  Downloading et_xmlfile-1.1.0-py3-none-any.whl (4.7 kB)\n",
      "Installing collected packages: et-xmlfile, openpyxl\n",
      "Successfully installed et-xmlfile-1.1.0 openpyxl-3.1.2\n",
      "Note: you may need to restart the kernel to use updated packages.\n"
     ]
    },
    {
     "name": "stderr",
     "output_type": "stream",
     "text": [
      "WARNING: You are using pip version 21.1.1; however, version 23.3.2 is available.\n",
      "You should consider upgrading via the 'C:\\Users\\USER\\AppData\\Local\\Microsoft\\WindowsApps\\PythonSoftwareFoundation.Python.3.8_qbz5n2kfra8p0\\python.exe -m pip install --upgrade pip' command.\n"
     ]
    }
   ],
   "source": [
    "#%pip install pandas\n",
    "%pip install openpyxl"
   ]
  },
  {
   "cell_type": "code",
   "execution_count": 1,
   "metadata": {},
   "outputs": [
    {
     "data": {
      "text/html": [
       "<div>\n",
       "<style scoped>\n",
       "    .dataframe tbody tr th:only-of-type {\n",
       "        vertical-align: middle;\n",
       "    }\n",
       "\n",
       "    .dataframe tbody tr th {\n",
       "        vertical-align: top;\n",
       "    }\n",
       "\n",
       "    .dataframe thead th {\n",
       "        text-align: right;\n",
       "    }\n",
       "</style>\n",
       "<table border=\"1\" class=\"dataframe\">\n",
       "  <thead>\n",
       "    <tr style=\"text-align: right;\">\n",
       "      <th></th>\n",
       "      <th>No.</th>\n",
       "      <th>영상파일명</th>\n",
       "      <th>FPS</th>\n",
       "      <th>삼킴 시작(초)</th>\n",
       "      <th>삼킴 끝(초)</th>\n",
       "      <th>흡인</th>\n",
       "      <th>PAS</th>\n",
       "      <th>잔여물(vallecular)</th>\n",
       "      <th>음식물텍스트추출</th>\n",
       "      <th>음식물 타입</th>\n",
       "      <th>비고</th>\n",
       "    </tr>\n",
       "  </thead>\n",
       "  <tbody>\n",
       "    <tr>\n",
       "      <th>0</th>\n",
       "      <td>1.0</td>\n",
       "      <td>Z:\\home\\sh_rsrehab\\AKAS_Test\\data\\video_data\\2...</td>\n",
       "      <td>NaN</td>\n",
       "      <td>NaN</td>\n",
       "      <td>NaN</td>\n",
       "      <td>no</td>\n",
       "      <td>indefinite</td>\n",
       "      <td>0.0</td>\n",
       "      <td>SF.avi</td>\n",
       "      <td>SF</td>\n",
       "      <td>NaN</td>\n",
       "    </tr>\n",
       "    <tr>\n",
       "      <th>1</th>\n",
       "      <td>2.0</td>\n",
       "      <td>Z:\\home\\sh_rsrehab\\AKAS_Test\\data\\video_data\\2...</td>\n",
       "      <td>NaN</td>\n",
       "      <td>NaN</td>\n",
       "      <td>NaN</td>\n",
       "      <td>no</td>\n",
       "      <td>indefinite</td>\n",
       "      <td>0.0</td>\n",
       "      <td>YP.avi</td>\n",
       "      <td>YP</td>\n",
       "      <td>NaN</td>\n",
       "    </tr>\n",
       "    <tr>\n",
       "      <th>2</th>\n",
       "      <td>3.0</td>\n",
       "      <td>Z:\\home\\sh_rsrehab\\AKAS_Test\\data\\video_data\\2...</td>\n",
       "      <td>NaN</td>\n",
       "      <td>NaN</td>\n",
       "      <td>NaN</td>\n",
       "      <td>NaN</td>\n",
       "      <td>NaN</td>\n",
       "      <td>NaN</td>\n",
       "      <td>SF.avi</td>\n",
       "      <td>SF</td>\n",
       "      <td>NaN</td>\n",
       "    </tr>\n",
       "    <tr>\n",
       "      <th>3</th>\n",
       "      <td>NaN</td>\n",
       "      <td>Z:\\home\\sh_rsrehab\\AKAS_Test\\data\\video_data\\2...</td>\n",
       "      <td>NaN</td>\n",
       "      <td>NaN</td>\n",
       "      <td>NaN</td>\n",
       "      <td>NaN</td>\n",
       "      <td>NaN</td>\n",
       "      <td>NaN</td>\n",
       "      <td>NaN</td>\n",
       "      <td>NaN</td>\n",
       "      <td>NaN</td>\n",
       "    </tr>\n",
       "    <tr>\n",
       "      <th>4</th>\n",
       "      <td>5.0</td>\n",
       "      <td>Z:\\home\\sh_rsrehab\\AKAS_Test\\data\\video_data\\2...</td>\n",
       "      <td>NaN</td>\n",
       "      <td>NaN</td>\n",
       "      <td>NaN</td>\n",
       "      <td>NaN</td>\n",
       "      <td>NaN</td>\n",
       "      <td>NaN</td>\n",
       "      <td>YP(syr).avi</td>\n",
       "      <td>YP(syr)</td>\n",
       "      <td>NaN</td>\n",
       "    </tr>\n",
       "  </tbody>\n",
       "</table>\n",
       "</div>"
      ],
      "text/plain": [
       "   No.                                              영상파일명  FPS  삼킴 시작(초)  \\\n",
       "0  1.0  Z:\\home\\sh_rsrehab\\AKAS_Test\\data\\video_data\\2...  NaN       NaN   \n",
       "1  2.0  Z:\\home\\sh_rsrehab\\AKAS_Test\\data\\video_data\\2...  NaN       NaN   \n",
       "2  3.0  Z:\\home\\sh_rsrehab\\AKAS_Test\\data\\video_data\\2...  NaN       NaN   \n",
       "3  NaN  Z:\\home\\sh_rsrehab\\AKAS_Test\\data\\video_data\\2...  NaN       NaN   \n",
       "4  5.0  Z:\\home\\sh_rsrehab\\AKAS_Test\\data\\video_data\\2...  NaN       NaN   \n",
       "\n",
       "   삼킴 끝(초)   흡인         PAS  잔여물(vallecular)     음식물텍스트추출   음식물 타입   비고  \n",
       "0      NaN   no  indefinite              0.0       SF.avi       SF  NaN  \n",
       "1      NaN   no  indefinite              0.0       YP.avi       YP  NaN  \n",
       "2      NaN  NaN         NaN              NaN       SF.avi       SF  NaN  \n",
       "3      NaN  NaN         NaN              NaN          NaN      NaN  NaN  \n",
       "4      NaN  NaN         NaN              NaN  YP(syr).avi  YP(syr)  NaN  "
      ]
     },
     "execution_count": 1,
     "metadata": {},
     "output_type": "execute_result"
    }
   ],
   "source": [
    "import pandas as pd\n",
    "import re\n",
    "\n",
    "# Let's assume the file content is loaded into the DataFrame\n",
    "# For the purpose of this example, we'll create a DataFrame with similar patterns as seen in the image\n",
    "\n",
    "# Sample data mimicking the user's data structure based on the image provided\n",
    "xlsx_data = \"c:\\\\Users\\\\USER\\\\Downloads\\\\VFSS_residue_image_list_김소현 (1).xlsx\"\n",
    "data = pd.read_excel(xlsx_data, engine='openpyxl',\n",
    "                     sheet_name=2)  # For the third sheet\n",
    "# Create a DataFrame\n",
    "df = pd.DataFrame(data)\n",
    "df.head()"
   ]
  },
  {
   "cell_type": "code",
   "execution_count": 2,
   "metadata": {},
   "outputs": [],
   "source": [
    "df['Name'] = df['영상파일명']"
   ]
  },
  {
   "cell_type": "code",
   "execution_count": 3,
   "metadata": {},
   "outputs": [],
   "source": [
    "def extract_name(path):\n",
    "    # This regex looks for a backslash followed by any combination of letters (Korean included), numbers, and underscores\n",
    "    # It stops when it finds a space followed by an open parenthesis and a number\n",
    "    # Make sure path is a string, if not, return None\n",
    "    if not isinstance(path, str):\n",
    "        return None\n",
    "    # This regex looks for a backslash followed by any combination of letters (Korean included), numbers, and underscores\n",
    "    # It stops when it finds a space followed by an open parenthesis and a number\n",
    "    match = re.search(r'\\\\([가-힣A-Za-z0-9_]+)\\s+\\(\\d+\\)', path)\n",
    "    return match.group(1) if match else None"
   ]
  },
  {
   "cell_type": "code",
   "execution_count": 4,
   "metadata": {},
   "outputs": [
    {
     "data": {
      "text/plain": [
       "array(['10003671_성락영', '10023480_박찬준', '10034156_안선진', '10113624_서정수',\n",
       "       '10227408_박찬순', '10269565_조영자', '10402122_장봉희', '11033480_이재신',\n",
       "       '11391225_최옥희', '11453952_황서영', '11478533_김득실', '12044584_최대순',\n",
       "       '12548853_이천영', '12589481_권찬준', '12661592_박영의', '12925450_김행보',\n",
       "       '13141154_김이순', '13557766_김무술', '13640721_손옥전', '13737036_이성재',\n",
       "       '13895071_이기성', '14329351_박형남', '14731978_최광섭', '14905584_김래경',\n",
       "       '16049372_오규삼', '17156723_남기윤', '17351357_김영심', '18648054_정영숙',\n",
       "       '19245179_이기현', '19262345_서재관', '19607614_최준용', '19815592_박은심',\n",
       "       '19816658_이기순', '21565681_오순이', '21673234_박순남', '21827327_전진언',\n",
       "       '21905366_권기수', '22360384_조남혜', '23262508_박태연', '23463589_권병천',\n",
       "       '23629707_류영하', '24084112_강휘남', '24340247_강완희',\n",
       "       '24805775_BATYRZHAN', '24910576_임화자', '24929835_박운용',\n",
       "       '25880490_백민우', '25906671_윤원근', '25929410_전종배', '26131913_장수연',\n",
       "       '26827423_이항섭', '27218262_최태환', '27255843_권영해', '27292570_정광헌',\n",
       "       '27457795_신명하', '27528680_김명순', '27692790_황분자', '28072414_김종갑',\n",
       "       '28182683_백란희', '28202462_임석주', '28758129_신명식', '29323951_한두희',\n",
       "       '29514050_임필순', '29543351_정덕희', '29709928_안미자', '31083838_이원재',\n",
       "       '31329596_최병준', '31557120_유주연', '31875323_정진순', '31898852_이경탁',\n",
       "       '31943257_최명순', '31999267_김용수', '32389337_김정란', '32435007_지성근',\n",
       "       '32540118_고영신', '32820124_김진홍', '33887865_이혜진', '34757936_정관식',\n",
       "       '34896329_권순영', '35105723_정성근', '35133090_이현미', '35181486_강춘옥',\n",
       "       '35393885_최영윤', '35571724_권미경', '35717311_한영수', '35795070_김혜자',\n",
       "       '35893190_오종대', '36405426_서영훈', '36647453_정철호', '36706763_정승호',\n",
       "       '36722020_김정원', '36775118_박대관', '36785920_박영호', '36799905_홍하숙',\n",
       "       '36814347_최현주', '36864924_이백운', '36883381_정영주', '36924857_박일훈',\n",
       "       '36943810_정승강', '36944039_김홍융', '36975893_이광욱', '36979578_최박임',\n",
       "       '37004491_유복임', '37033204_장경옥', '37036690_이창익',\n",
       "       '37051769_OGULZHAN', '37055576_이상금', '37055691_김소진',\n",
       "       '37115238_박용선', '37123479_박광분', '37141516_강태섭', '37154442_정옥희'],\n",
       "      dtype=object)"
      ]
     },
     "execution_count": 4,
     "metadata": {},
     "output_type": "execute_result"
    }
   ],
   "source": [
    "# Apply the function to extract names\n",
    "df['Name'] = df['영상파일명'].apply(extract_name)\n",
    "\n",
    "# Now, let's get the distinct names\n",
    "distinct_names = df['Name'].unique()\n",
    "distinct_names"
   ]
  },
  {
   "cell_type": "code",
   "execution_count": 5,
   "metadata": {},
   "outputs": [
    {
     "data": {
      "text/plain": [
       "112"
      ]
     },
     "execution_count": 5,
     "metadata": {},
     "output_type": "execute_result"
    }
   ],
   "source": [
    "# Return the distinct names and their count\n",
    "len(distinct_names)"
   ]
  },
  {
   "cell_type": "code",
   "execution_count": null,
   "metadata": {},
   "outputs": [],
   "source": []
  }
 ],
 "metadata": {
  "kernelspec": {
   "display_name": "Python 3",
   "language": "python",
   "name": "python3"
  },
  "language_info": {
   "codemirror_mode": {
    "name": "ipython",
    "version": 3
   },
   "file_extension": ".py",
   "mimetype": "text/x-python",
   "name": "python",
   "nbconvert_exporter": "python",
   "pygments_lexer": "ipython3",
   "version": "3.8.10"
  }
 },
 "nbformat": 4,
 "nbformat_minor": 2
}
