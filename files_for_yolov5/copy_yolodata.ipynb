{
 "cells": [
  {
   "cell_type": "markdown",
   "metadata": {},
   "source": [
    "# 테스트 코드 (1차학습 데이터)\n",
    "\n",
    "[Pathlib의 Path](https://engineer-mole.tistory.com/191)"
   ]
  },
  {
   "cell_type": "code",
   "execution_count": 102,
   "metadata": {},
   "outputs": [
    {
     "data": {
      "text/plain": [
       "'/home/rsrehab/cvat/serverless/pytorch/ultralytics/yolov5/nuclio/data'"
      ]
     },
     "execution_count": 102,
     "metadata": {},
     "output_type": "execute_result"
    }
   ],
   "source": [
    "import os\n",
    "from glob import glob\n",
    "import shutil\n",
    "from pathlib import Path\n",
    "\n",
    "os.chdir(\"/home/rsrehab/cvat/serverless/pytorch/ultralytics/yolov5/nuclio/data\")\n",
    "os.getcwd()"
   ]
  },
  {
   "cell_type": "code",
   "execution_count": 22,
   "metadata": {},
   "outputs": [
    {
     "name": "stdout",
     "output_type": "stream",
     "text": [
      "Source directory: /home/rsrehab/cvat/serverless/pytorch/ultralytics/yolov5/nuclio/data/1st_tra\n",
      "Destination directory: /home/rsrehab/cvat/serverless/pytorch/ultralytics/yolov5/nuclio/data\n"
     ]
    }
   ],
   "source": [
    "# cvat에서 받은 zip 데이터 폴더 경로\n",
    "src_dir = Path(os.getcwd() + \"/1st_tra\")\n",
    "print(\"Source directory:\", src_dir)\n",
    "\n",
    "# Yolov5 폴더 구조에 맞게, 디렉토리 생성 generate directories according to Yolov5 folder structure\n",
    "dest_dir = Path(os.getcwd())\n",
    "print(\"Destination directory:\", dest_dir)\n",
    "\n",
    "# 대상 디렉토리가 없으면 생성\n",
    "images_dest_dir = dest_dir / 'images' / '1st_train_image'\n",
    "labels_dest_dir = dest_dir / 'labels' / '1st_train_label'\n",
    "\n",
    "images_dest_dir.mkdir(parents=True, exist_ok=True)\n",
    "labels_dest_dir.mkdir(parents=True, exist_ok=True)"
   ]
  },
  {
   "cell_type": "code",
   "execution_count": null,
   "metadata": {},
   "outputs": [],
   "source": [
    "# 사람별 폴더 탐색 및 파일 복사 search person folders in source directory and copy files\n",
    "    # 참조 블로그: https://aigong.tistory.com/193#4)_Path.iterdir()\n",
    "\n",
    "for person_folder in src_dir.iterdir(): # 기존 데이터 폴더가 디렉토리(폴더)일때, 내부 서브 디렉토리만 반환\n",
    "    print(person_folder)\n",
    "    if person_folder.is_dir(): # 사람 폴더도 폴더인지 체크:\n",
    "        for folder_type in person_folder.iterdir():\n",
    "            print(folder_type)\n",
    "            if folder_type.is_dir():\n",
    "                for file in folder_type.glob('*'):\n",
    "                    if file.suffix in ['.jpg', '.txt']:\n",
    "                        if file.suffix == '.jpg':\n",
    "                            shutil.move(file, dest_dir/f'images/1st_train'/file.name)\n",
    "                        elif file.suffix == '.txt': #.xml 파일도 존재하므로, elif로 처리\n",
    "                            shutil.move(file, dest_dir/f'labels/1st_train'/file.name)\n"
   ]
  },
  {
   "cell_type": "markdown",
   "metadata": {},
   "source": [
    "# 재사용 코드"
   ]
  },
  {
   "cell_type": "code",
   "execution_count": 34,
   "metadata": {},
   "outputs": [],
   "source": [
    "import os\n",
    "from glob import glob\n",
    "import shutil\n",
    "from pathlib import Path\n",
    "\n",
    "# 기존 데이터 폴더 경로 입력\n",
    "source_dir = Path(os.getcwd() + '/1st/1st_val') # example path -> backup_data\n",
    "\n",
    "# 대상 데이터 폴더 경로 입력\n",
    "target_dir = Path(os.getcwd()) # example path -> yolov5/data\n",
    "\n",
    "# 대상 폴더 구조에 맞게 디렉터리 생성\n",
    "for name in ['images/1st_valid', 'labels/1st_valid']:\n",
    "    os.makedirs(target_dir / name, exist_ok=True)"
   ]
  },
  {
   "cell_type": "code",
   "execution_count": 31,
   "metadata": {},
   "outputs": [],
   "source": [
    "# 파일 복사 함수\n",
    "def copy_files(data_folder, dest_folder, set_type='1st_valid'): # set_type에 학습차수 포함해서 기입 ex. 3rd_train\n",
    "    for folder_type in data_folder.iterdir():\n",
    "        if folder_type.is_dir():\n",
    "            for file in folder_type.glob('*'):\n",
    "                if file.suffix in ['.jpg', '.txt']:\n",
    "                    if file.suffix == '.jpg':\n",
    "                        shutil.copy(file, dest_folder / f'images/{set_type}' / file.name)\n",
    "                    elif file.suffix == '.txt': # \n",
    "                        shutil.copy(file, dest_folder / f'labels/{set_type}' / file.name)\n"
   ]
  },
  {
   "cell_type": "code",
   "execution_count": 35,
   "metadata": {},
   "outputs": [
    {
     "name": "stdout",
     "output_type": "stream",
     "text": [
      "/home/rsrehab/cvat/serverless/pytorch/ultralytics/yolov5/nuclio/data/1st/1st_val/25906671_윤원근(3)YP_비흡인_vallecular1\n",
      "/home/rsrehab/cvat/serverless/pytorch/ultralytics/yolov5/nuclio/data/1st/1st_val/27620175_이재욱(3)YP_흡인PAS8_vallecular1\n",
      "/home/rsrehab/cvat/serverless/pytorch/ultralytics/yolov5/nuclio/data/1st/1st_val/25918605_설창훈(4)YP_비흡인_vallecular1\n",
      "/home/rsrehab/cvat/serverless/pytorch/ultralytics/yolov5/nuclio/data/1st/1st_val/24340247_강완희(4)YP_비흡인_vallecular2\n",
      "/home/rsrehab/cvat/serverless/pytorch/ultralytics/yolov5/nuclio/data/1st/1st_val/25918605_설창훈(1)SF_흡인PAS8_vallecular0\n",
      "/home/rsrehab/cvat/serverless/pytorch/ultralytics/yolov5/nuclio/data/1st/1st_val/24340247_강완희(1)SF_흡인PAS5_vallecular1\n",
      "/home/rsrehab/cvat/serverless/pytorch/ultralytics/yolov5/nuclio/data/1st/1st_val/17014160_박기순(1)SF_비흡인_vallecular3\n",
      "/home/rsrehab/cvat/serverless/pytorch/ultralytics/yolov5/nuclio/data/1st/1st_val/25906671_윤원근(1)SF_흡인PAS6_vallecular1\n",
      "/home/rsrehab/cvat/serverless/pytorch/ultralytics/yolov5/nuclio/data/1st/1st_val/14597572_김현숙(5)YP_비흡인_vallecular1\n",
      "/home/rsrehab/cvat/serverless/pytorch/ultralytics/yolov5/nuclio/data/1st/1st_val/27620175_이재욱(1)SF_흡인PAS8_vallecular1\n",
      "/home/rsrehab/cvat/serverless/pytorch/ultralytics/yolov5/nuclio/data/1st/1st_val/14597572_김현숙(1)SF_비흡인_vallecular1\n"
     ]
    }
   ],
   "source": [
    "for person_folder in source_dir.iterdir(): \n",
    "    print(person_folder)\n",
    "    if person_folder.is_dir(): \n",
    "        copy_files(person_folder, target_dir, set_type='1st_valid') # set_type 입력 해주기 "
   ]
  },
  {
   "cell_type": "markdown",
   "metadata": {},
   "source": [
    "# 테스트 코드 (2차학습 데이터)"
   ]
  },
  {
   "cell_type": "code",
   "execution_count": 37,
   "metadata": {},
   "outputs": [
    {
     "name": "stdout",
     "output_type": "stream",
     "text": [
      "Collecting pandas\n",
      "  Downloading pandas-2.0.3-cp38-cp38-manylinux_2_17_x86_64.manylinux2014_x86_64.whl.metadata (18 kB)\n",
      "Requirement already satisfied: python-dateutil>=2.8.2 in /home/rsrehab/miniconda3/envs/akas01/lib/python3.8/site-packages (from pandas) (2.9.0)\n",
      "Collecting pytz>=2020.1 (from pandas)\n",
      "  Downloading pytz-2024.1-py2.py3-none-any.whl.metadata (22 kB)\n",
      "Collecting tzdata>=2022.1 (from pandas)\n",
      "  Downloading tzdata-2024.1-py2.py3-none-any.whl.metadata (1.4 kB)\n",
      "Requirement already satisfied: numpy>=1.20.3 in /home/rsrehab/miniconda3/envs/akas01/lib/python3.8/site-packages (from pandas) (1.24.3)\n",
      "Requirement already satisfied: six>=1.5 in /home/rsrehab/miniconda3/envs/akas01/lib/python3.8/site-packages (from python-dateutil>=2.8.2->pandas) (1.16.0)\n",
      "Downloading pandas-2.0.3-cp38-cp38-manylinux_2_17_x86_64.manylinux2014_x86_64.whl (12.4 MB)\n",
      "\u001b[2K   \u001b[90m━━━━━━━━━━━━━━━━━━━━━━━━━━━━━━━━━━━━━━━━\u001b[0m \u001b[32m12.4/12.4 MB\u001b[0m \u001b[31m9.5 MB/s\u001b[0m eta \u001b[36m0:00:00\u001b[0m00:01\u001b[0m00:01\u001b[0m\n",
      "\u001b[?25hDownloading pytz-2024.1-py2.py3-none-any.whl (505 kB)\n",
      "\u001b[2K   \u001b[90m━━━━━━━━━━━━━━━━━━━━━━━━━━━━━━━━━━━━━━━━\u001b[0m \u001b[32m505.5/505.5 kB\u001b[0m \u001b[31m8.6 MB/s\u001b[0m eta \u001b[36m0:00:00\u001b[0mta \u001b[36m0:00:01\u001b[0m\n",
      "\u001b[?25hDownloading tzdata-2024.1-py2.py3-none-any.whl (345 kB)\n",
      "\u001b[2K   \u001b[90m━━━━━━━━━━━━━━━━━━━━━━━━━━━━━━━━━━━━━━━━\u001b[0m \u001b[32m345.4/345.4 kB\u001b[0m \u001b[31m9.3 MB/s\u001b[0m eta \u001b[36m0:00:00\u001b[0m:00:01\u001b[0m\n",
      "\u001b[?25hInstalling collected packages: pytz, tzdata, pandas\n",
      "Successfully installed pandas-2.0.3 pytz-2024.1 tzdata-2024.1\n",
      "Note: you may need to restart the kernel to use updated packages.\n"
     ]
    }
   ],
   "source": [
    "%pip install pandas"
   ]
  },
  {
   "cell_type": "code",
   "execution_count": 39,
   "metadata": {},
   "outputs": [
    {
     "name": "stdout",
     "output_type": "stream",
     "text": [
      "Collecting openpyxl\n",
      "  Downloading openpyxl-3.1.2-py2.py3-none-any.whl.metadata (2.5 kB)\n",
      "Collecting et-xmlfile (from openpyxl)\n",
      "  Downloading et_xmlfile-1.1.0-py3-none-any.whl.metadata (1.8 kB)\n",
      "Downloading openpyxl-3.1.2-py2.py3-none-any.whl (249 kB)\n",
      "\u001b[2K   \u001b[90m━━━━━━━━━━━━━━━━━━━━━━━━━━━━━━━━━━━━━━━━\u001b[0m \u001b[32m250.0/250.0 kB\u001b[0m \u001b[31m7.5 MB/s\u001b[0m eta \u001b[36m0:00:00\u001b[0m\n",
      "\u001b[?25hDownloading et_xmlfile-1.1.0-py3-none-any.whl (4.7 kB)\n",
      "Installing collected packages: et-xmlfile, openpyxl\n",
      "Successfully installed et-xmlfile-1.1.0 openpyxl-3.1.2\n",
      "Note: you may need to restart the kernel to use updated packages.\n"
     ]
    }
   ],
   "source": [
    "%pip install openpyxl"
   ]
  },
  {
   "cell_type": "code",
   "execution_count": null,
   "metadata": {},
   "outputs": [],
   "source": [
    "import os\n",
    "import pandas as pd\n",
    "from glob import glob\n",
    "\n",
    "os.chdir(\"/mnt/c/Users/USER/Downloads\")\n",
    "print(os.getcwd())\n",
    "\n",
    "xlsx_data = os.getcwd() + \"/VFSS_video_list.xlsx\"\n",
    "print(xlsx_data)\n",
    "\n",
    "# xlsx 파일에서, 특정 sheet 읽어오기\n",
    "data = pd.read_excel(xlsx_data, engine='openpyxl', sheet_name='Sheet1')\n",
    "\n",
    "# 데이터프레임 생성\n",
    "df = pd.DataFrame(data)\n",
    "df"
   ]
  },
  {
   "cell_type": "code",
   "execution_count": 2,
   "metadata": {},
   "outputs": [
    {
     "name": "stdout",
     "output_type": "stream",
     "text": [
      "<class 'pandas.core.frame.DataFrame'>\n",
      "RangeIndex: 51 entries, 0 to 50\n",
      "Data columns (total 3 columns):\n",
      " #   Column  Non-Null Count  Dtype \n",
      "---  ------  --------------  ----- \n",
      " 0   영상파일명   51 non-null     object\n",
      " 1   학습 차수   51 non-null     object\n",
      " 2   데이터 분리  50 non-null     object\n",
      "dtypes: object(3)\n",
      "memory usage: 1.3+ KB\n"
     ]
    }
   ],
   "source": [
    "df.info()"
   ]
  },
  {
   "cell_type": "code",
   "execution_count": 3,
   "metadata": {},
   "outputs": [
    {
     "data": {
      "text/plain": [
       "'13732000_장영규(4)YP'"
      ]
     },
     "execution_count": 3,
     "metadata": {},
     "output_type": "execute_result"
    }
   ],
   "source": [
    "df['영상파일명'] = df['영상파일명'].str.replace(\" \",\"\")\n",
    "df['영상파일명'][1]"
   ]
  },
  {
   "cell_type": "code",
   "execution_count": 67,
   "metadata": {},
   "outputs": [
    {
     "data": {
      "text/html": [
       "<div>\n",
       "<style scoped>\n",
       "    .dataframe tbody tr th:only-of-type {\n",
       "        vertical-align: middle;\n",
       "    }\n",
       "\n",
       "    .dataframe tbody tr th {\n",
       "        vertical-align: top;\n",
       "    }\n",
       "\n",
       "    .dataframe thead th {\n",
       "        text-align: right;\n",
       "    }\n",
       "</style>\n",
       "<table border=\"1\" class=\"dataframe\">\n",
       "  <thead>\n",
       "    <tr style=\"text-align: right;\">\n",
       "      <th></th>\n",
       "      <th>영상파일명</th>\n",
       "      <th>학습 차수</th>\n",
       "      <th>데이터 분리</th>\n",
       "    </tr>\n",
       "  </thead>\n",
       "  <tbody>\n",
       "    <tr>\n",
       "      <th>0</th>\n",
       "      <td>13732000_장영규 (1) SF</td>\n",
       "      <td>2차</td>\n",
       "      <td>train</td>\n",
       "    </tr>\n",
       "    <tr>\n",
       "      <th>1</th>\n",
       "      <td>13732000_장영규 (4) YP</td>\n",
       "      <td>2차</td>\n",
       "      <td>train</td>\n",
       "    </tr>\n",
       "    <tr>\n",
       "      <th>2</th>\n",
       "      <td>14039689_김명수 (1) YP</td>\n",
       "      <td>2차</td>\n",
       "      <td>train</td>\n",
       "    </tr>\n",
       "    <tr>\n",
       "      <th>3</th>\n",
       "      <td>14039689_김명수 (5) SF</td>\n",
       "      <td>2차</td>\n",
       "      <td>train</td>\n",
       "    </tr>\n",
       "    <tr>\n",
       "      <th>4</th>\n",
       "      <td>14053700_김희억 (1) SF</td>\n",
       "      <td>2차</td>\n",
       "      <td>train</td>\n",
       "    </tr>\n",
       "    <tr>\n",
       "      <th>5</th>\n",
       "      <td>14053700_김희억 (3) YP</td>\n",
       "      <td>2차</td>\n",
       "      <td>train</td>\n",
       "    </tr>\n",
       "    <tr>\n",
       "      <th>6</th>\n",
       "      <td>14819861_임순자 (1) SF</td>\n",
       "      <td>2차</td>\n",
       "      <td>train</td>\n",
       "    </tr>\n",
       "    <tr>\n",
       "      <th>7</th>\n",
       "      <td>14819861_임순자 (4) YP</td>\n",
       "      <td>2차</td>\n",
       "      <td>train</td>\n",
       "    </tr>\n",
       "    <tr>\n",
       "      <th>8</th>\n",
       "      <td>15617688_김복엽 (3) YP</td>\n",
       "      <td>2차</td>\n",
       "      <td>train</td>\n",
       "    </tr>\n",
       "    <tr>\n",
       "      <th>9</th>\n",
       "      <td>16049372_오규삼 (4) YP</td>\n",
       "      <td>2차</td>\n",
       "      <td>train</td>\n",
       "    </tr>\n",
       "    <tr>\n",
       "      <th>10</th>\n",
       "      <td>27794951_이병복 (1) SF</td>\n",
       "      <td>2차</td>\n",
       "      <td>train</td>\n",
       "    </tr>\n",
       "    <tr>\n",
       "      <th>11</th>\n",
       "      <td>27794951_이병복 (3) YP</td>\n",
       "      <td>2차</td>\n",
       "      <td>train</td>\n",
       "    </tr>\n",
       "    <tr>\n",
       "      <th>12</th>\n",
       "      <td>29101795_나다순 (1) SF</td>\n",
       "      <td>2차</td>\n",
       "      <td>train</td>\n",
       "    </tr>\n",
       "    <tr>\n",
       "      <th>13</th>\n",
       "      <td>29101795_나다순 (3) YP</td>\n",
       "      <td>2차</td>\n",
       "      <td>train</td>\n",
       "    </tr>\n",
       "    <tr>\n",
       "      <th>14</th>\n",
       "      <td>29268744_한기주 (1) YP</td>\n",
       "      <td>2차</td>\n",
       "      <td>train</td>\n",
       "    </tr>\n",
       "    <tr>\n",
       "      <th>15</th>\n",
       "      <td>29268744_한기주 (3) SF</td>\n",
       "      <td>2차</td>\n",
       "      <td>train</td>\n",
       "    </tr>\n",
       "    <tr>\n",
       "      <th>16</th>\n",
       "      <td>29514050_임필순 (1) SF</td>\n",
       "      <td>2차</td>\n",
       "      <td>train</td>\n",
       "    </tr>\n",
       "    <tr>\n",
       "      <th>17</th>\n",
       "      <td>29514050_임필순 (3) YP</td>\n",
       "      <td>2차</td>\n",
       "      <td>train</td>\n",
       "    </tr>\n",
       "    <tr>\n",
       "      <th>18</th>\n",
       "      <td>32388815_차선옥 (1) SF</td>\n",
       "      <td>2차</td>\n",
       "      <td>train</td>\n",
       "    </tr>\n",
       "    <tr>\n",
       "      <th>19</th>\n",
       "      <td>32388815_차선옥 (3) YP</td>\n",
       "      <td>2차</td>\n",
       "      <td>train</td>\n",
       "    </tr>\n",
       "    <tr>\n",
       "      <th>20</th>\n",
       "      <td>35936059_강윤진 (1) SF</td>\n",
       "      <td>2차</td>\n",
       "      <td>train</td>\n",
       "    </tr>\n",
       "    <tr>\n",
       "      <th>21</th>\n",
       "      <td>35936059_강윤진 (3) YP</td>\n",
       "      <td>2차</td>\n",
       "      <td>train</td>\n",
       "    </tr>\n",
       "    <tr>\n",
       "      <th>22</th>\n",
       "      <td>36634286_박동백 (1) SF</td>\n",
       "      <td>2차</td>\n",
       "      <td>train</td>\n",
       "    </tr>\n",
       "    <tr>\n",
       "      <th>23</th>\n",
       "      <td>36634286_박동백 (4) YP</td>\n",
       "      <td>2차</td>\n",
       "      <td>train</td>\n",
       "    </tr>\n",
       "    <tr>\n",
       "      <th>24</th>\n",
       "      <td>36785920_박영호 (1) SF</td>\n",
       "      <td>2차</td>\n",
       "      <td>train</td>\n",
       "    </tr>\n",
       "    <tr>\n",
       "      <th>25</th>\n",
       "      <td>36785920_박영호 (2) YP</td>\n",
       "      <td>2차</td>\n",
       "      <td>train</td>\n",
       "    </tr>\n",
       "    <tr>\n",
       "      <th>26</th>\n",
       "      <td>36814347_최현주 (1) SF</td>\n",
       "      <td>2차</td>\n",
       "      <td>train</td>\n",
       "    </tr>\n",
       "    <tr>\n",
       "      <th>27</th>\n",
       "      <td>36814347_최현주 (2) YP</td>\n",
       "      <td>2차</td>\n",
       "      <td>train</td>\n",
       "    </tr>\n",
       "    <tr>\n",
       "      <th>28</th>\n",
       "      <td>36915644_용종심 (1) SF</td>\n",
       "      <td>2차</td>\n",
       "      <td>train</td>\n",
       "    </tr>\n",
       "    <tr>\n",
       "      <th>29</th>\n",
       "      <td>36915644_용종심 (3) YP</td>\n",
       "      <td>2차</td>\n",
       "      <td>train</td>\n",
       "    </tr>\n",
       "    <tr>\n",
       "      <th>30</th>\n",
       "      <td>11453952_황서영 (1) YP</td>\n",
       "      <td>2차</td>\n",
       "      <td>train</td>\n",
       "    </tr>\n",
       "    <tr>\n",
       "      <th>31</th>\n",
       "      <td>11453952_황서영 (3) SF</td>\n",
       "      <td>2차</td>\n",
       "      <td>train</td>\n",
       "    </tr>\n",
       "    <tr>\n",
       "      <th>32</th>\n",
       "      <td>12925450_김행보 (1) SF</td>\n",
       "      <td>2차</td>\n",
       "      <td>train</td>\n",
       "    </tr>\n",
       "    <tr>\n",
       "      <th>33</th>\n",
       "      <td>13737036_이성재 (1) SF</td>\n",
       "      <td>2차</td>\n",
       "      <td>train</td>\n",
       "    </tr>\n",
       "    <tr>\n",
       "      <th>34</th>\n",
       "      <td>13737036_이성재 (3) YP</td>\n",
       "      <td>2차</td>\n",
       "      <td>train</td>\n",
       "    </tr>\n",
       "    <tr>\n",
       "      <th>35</th>\n",
       "      <td>19815592_박은심 (1) SF</td>\n",
       "      <td>2차</td>\n",
       "      <td>train</td>\n",
       "    </tr>\n",
       "    <tr>\n",
       "      <th>36</th>\n",
       "      <td>19815592_박은심 (3) YP</td>\n",
       "      <td>2차</td>\n",
       "      <td>train</td>\n",
       "    </tr>\n",
       "    <tr>\n",
       "      <th>37</th>\n",
       "      <td>21827327_전진언 (1) SF</td>\n",
       "      <td>2차</td>\n",
       "      <td>train</td>\n",
       "    </tr>\n",
       "    <tr>\n",
       "      <th>38</th>\n",
       "      <td>21827327_전진언 (3) YP</td>\n",
       "      <td>2차</td>\n",
       "      <td>train</td>\n",
       "    </tr>\n",
       "    <tr>\n",
       "      <th>39</th>\n",
       "      <td>11393524_김인환 (4) YP</td>\n",
       "      <td>2차</td>\n",
       "      <td>train</td>\n",
       "    </tr>\n",
       "  </tbody>\n",
       "</table>\n",
       "</div>"
      ],
      "text/plain": [
       "                  영상파일명 학습 차수 데이터 분리\n",
       "0   13732000_장영규 (1) SF    2차  train\n",
       "1   13732000_장영규 (4) YP    2차  train\n",
       "2   14039689_김명수 (1) YP    2차  train\n",
       "3   14039689_김명수 (5) SF    2차  train\n",
       "4   14053700_김희억 (1) SF    2차  train\n",
       "5   14053700_김희억 (3) YP    2차  train\n",
       "6   14819861_임순자 (1) SF    2차  train\n",
       "7   14819861_임순자 (4) YP    2차  train\n",
       "8   15617688_김복엽 (3) YP    2차  train\n",
       "9   16049372_오규삼 (4) YP    2차  train\n",
       "10  27794951_이병복 (1) SF    2차  train\n",
       "11  27794951_이병복 (3) YP    2차  train\n",
       "12  29101795_나다순 (1) SF    2차  train\n",
       "13  29101795_나다순 (3) YP    2차  train\n",
       "14  29268744_한기주 (1) YP    2차  train\n",
       "15  29268744_한기주 (3) SF    2차  train\n",
       "16  29514050_임필순 (1) SF    2차  train\n",
       "17  29514050_임필순 (3) YP    2차  train\n",
       "18  32388815_차선옥 (1) SF    2차  train\n",
       "19  32388815_차선옥 (3) YP    2차  train\n",
       "20  35936059_강윤진 (1) SF    2차  train\n",
       "21  35936059_강윤진 (3) YP    2차  train\n",
       "22  36634286_박동백 (1) SF    2차  train\n",
       "23  36634286_박동백 (4) YP    2차  train\n",
       "24  36785920_박영호 (1) SF    2차  train\n",
       "25  36785920_박영호 (2) YP    2차  train\n",
       "26  36814347_최현주 (1) SF    2차  train\n",
       "27  36814347_최현주 (2) YP    2차  train\n",
       "28  36915644_용종심 (1) SF    2차  train\n",
       "29  36915644_용종심 (3) YP    2차  train\n",
       "30  11453952_황서영 (1) YP    2차  train\n",
       "31  11453952_황서영 (3) SF    2차  train\n",
       "32  12925450_김행보 (1) SF    2차  train\n",
       "33  13737036_이성재 (1) SF    2차  train\n",
       "34  13737036_이성재 (3) YP    2차  train\n",
       "35  19815592_박은심 (1) SF    2차  train\n",
       "36  19815592_박은심 (3) YP    2차  train\n",
       "37  21827327_전진언 (1) SF    2차  train\n",
       "38  21827327_전진언 (3) YP    2차  train\n",
       "39  11393524_김인환 (4) YP    2차  train"
      ]
     },
     "execution_count": 67,
     "metadata": {},
     "output_type": "execute_result"
    }
   ],
   "source": [
    "train_df = df[df['데이터 분리'] == 'train'].copy()\n",
    "train_df"
   ]
  },
  {
   "cell_type": "code",
   "execution_count": 68,
   "metadata": {},
   "outputs": [
    {
     "data": {
      "text/plain": [
       "0     13732000_장영규(1)SF\n",
       "1     13732000_장영규(4)YP\n",
       "2     14039689_김명수(1)YP\n",
       "3     14039689_김명수(5)SF\n",
       "4     14053700_김희억(1)SF\n",
       "5     14053700_김희억(3)YP\n",
       "6     14819861_임순자(1)SF\n",
       "7     14819861_임순자(4)YP\n",
       "8     15617688_김복엽(3)YP\n",
       "9     16049372_오규삼(4)YP\n",
       "10    27794951_이병복(1)SF\n",
       "11    27794951_이병복(3)YP\n",
       "12    29101795_나다순(1)SF\n",
       "13    29101795_나다순(3)YP\n",
       "14    29268744_한기주(1)YP\n",
       "15    29268744_한기주(3)SF\n",
       "16    29514050_임필순(1)SF\n",
       "17    29514050_임필순(3)YP\n",
       "18    32388815_차선옥(1)SF\n",
       "19    32388815_차선옥(3)YP\n",
       "20    35936059_강윤진(1)SF\n",
       "21    35936059_강윤진(3)YP\n",
       "22    36634286_박동백(1)SF\n",
       "23    36634286_박동백(4)YP\n",
       "24    36785920_박영호(1)SF\n",
       "25    36785920_박영호(2)YP\n",
       "26    36814347_최현주(1)SF\n",
       "27    36814347_최현주(2)YP\n",
       "28    36915644_용종심(1)SF\n",
       "29    36915644_용종심(3)YP\n",
       "30    11453952_황서영(1)YP\n",
       "31    11453952_황서영(3)SF\n",
       "32    12925450_김행보(1)SF\n",
       "33    13737036_이성재(1)SF\n",
       "34    13737036_이성재(3)YP\n",
       "35    19815592_박은심(1)SF\n",
       "36    19815592_박은심(3)YP\n",
       "37    21827327_전진언(1)SF\n",
       "38    21827327_전진언(3)YP\n",
       "39    11393524_김인환(4)YP\n",
       "Name: 영상파일명, dtype: object"
      ]
     },
     "execution_count": 68,
     "metadata": {},
     "output_type": "execute_result"
    }
   ],
   "source": [
    "train_df['영상파일명'] = train_df['영상파일명'].str.replace(\" \",\"\")\n",
    "train_df['영상파일명']"
   ]
  },
  {
   "cell_type": "code",
   "execution_count": 69,
   "metadata": {},
   "outputs": [
    {
     "data": {
      "text/html": [
       "<div>\n",
       "<style scoped>\n",
       "    .dataframe tbody tr th:only-of-type {\n",
       "        vertical-align: middle;\n",
       "    }\n",
       "\n",
       "    .dataframe tbody tr th {\n",
       "        vertical-align: top;\n",
       "    }\n",
       "\n",
       "    .dataframe thead th {\n",
       "        text-align: right;\n",
       "    }\n",
       "</style>\n",
       "<table border=\"1\" class=\"dataframe\">\n",
       "  <thead>\n",
       "    <tr style=\"text-align: right;\">\n",
       "      <th></th>\n",
       "      <th>영상파일명</th>\n",
       "      <th>학습 차수</th>\n",
       "      <th>데이터 분리</th>\n",
       "    </tr>\n",
       "  </thead>\n",
       "  <tbody>\n",
       "    <tr>\n",
       "      <th>40</th>\n",
       "      <td>22767637_김남웅 (3) YP</td>\n",
       "      <td>2차</td>\n",
       "      <td>valid</td>\n",
       "    </tr>\n",
       "    <tr>\n",
       "      <th>41</th>\n",
       "      <td>17020886_정영숙 (1) YP</td>\n",
       "      <td>2차</td>\n",
       "      <td>valid</td>\n",
       "    </tr>\n",
       "    <tr>\n",
       "      <th>42</th>\n",
       "      <td>17020886_정영숙 (2) SF</td>\n",
       "      <td>2차</td>\n",
       "      <td>valid</td>\n",
       "    </tr>\n",
       "    <tr>\n",
       "      <th>43</th>\n",
       "      <td>24490159_김우연 (1) SF</td>\n",
       "      <td>2차</td>\n",
       "      <td>valid</td>\n",
       "    </tr>\n",
       "    <tr>\n",
       "      <th>44</th>\n",
       "      <td>24490159_김우연 (4) YP</td>\n",
       "      <td>2차</td>\n",
       "      <td>valid</td>\n",
       "    </tr>\n",
       "    <tr>\n",
       "      <th>45</th>\n",
       "      <td>22360384_조남혜 (1) SF</td>\n",
       "      <td>2차</td>\n",
       "      <td>valid</td>\n",
       "    </tr>\n",
       "    <tr>\n",
       "      <th>46</th>\n",
       "      <td>22360384_조남혜 (2) YP</td>\n",
       "      <td>2차</td>\n",
       "      <td>valid</td>\n",
       "    </tr>\n",
       "    <tr>\n",
       "      <th>47</th>\n",
       "      <td>24084112_강휘남 (1) SF</td>\n",
       "      <td>2차</td>\n",
       "      <td>valid</td>\n",
       "    </tr>\n",
       "    <tr>\n",
       "      <th>48</th>\n",
       "      <td>24084112_강휘남 (3) YP</td>\n",
       "      <td>2차</td>\n",
       "      <td>valid</td>\n",
       "    </tr>\n",
       "    <tr>\n",
       "      <th>49</th>\n",
       "      <td>27255843_권영해 (1) YP</td>\n",
       "      <td>2차</td>\n",
       "      <td>valid</td>\n",
       "    </tr>\n",
       "  </tbody>\n",
       "</table>\n",
       "</div>"
      ],
      "text/plain": [
       "                  영상파일명 학습 차수 데이터 분리\n",
       "40  22767637_김남웅 (3) YP    2차  valid\n",
       "41  17020886_정영숙 (1) YP    2차  valid\n",
       "42  17020886_정영숙 (2) SF    2차  valid\n",
       "43  24490159_김우연 (1) SF    2차  valid\n",
       "44  24490159_김우연 (4) YP    2차  valid\n",
       "45  22360384_조남혜 (1) SF    2차  valid\n",
       "46  22360384_조남혜 (2) YP    2차  valid\n",
       "47  24084112_강휘남 (1) SF    2차  valid\n",
       "48  24084112_강휘남 (3) YP    2차  valid\n",
       "49  27255843_권영해 (1) YP    2차  valid"
      ]
     },
     "execution_count": 69,
     "metadata": {},
     "output_type": "execute_result"
    }
   ],
   "source": [
    "valid_df = df[df['데이터 분리'] == 'valid'].copy()\n",
    "valid_df"
   ]
  },
  {
   "cell_type": "code",
   "execution_count": 71,
   "metadata": {},
   "outputs": [
    {
     "data": {
      "text/html": [
       "<div>\n",
       "<style scoped>\n",
       "    .dataframe tbody tr th:only-of-type {\n",
       "        vertical-align: middle;\n",
       "    }\n",
       "\n",
       "    .dataframe tbody tr th {\n",
       "        vertical-align: top;\n",
       "    }\n",
       "\n",
       "    .dataframe thead th {\n",
       "        text-align: right;\n",
       "    }\n",
       "</style>\n",
       "<table border=\"1\" class=\"dataframe\">\n",
       "  <thead>\n",
       "    <tr style=\"text-align: right;\">\n",
       "      <th></th>\n",
       "      <th>영상파일명</th>\n",
       "      <th>학습 차수</th>\n",
       "      <th>데이터 분리</th>\n",
       "    </tr>\n",
       "  </thead>\n",
       "  <tbody>\n",
       "    <tr>\n",
       "      <th>40</th>\n",
       "      <td>22767637_김남웅(3)YP</td>\n",
       "      <td>2차</td>\n",
       "      <td>valid</td>\n",
       "    </tr>\n",
       "    <tr>\n",
       "      <th>41</th>\n",
       "      <td>17020886_정영숙(1)YP</td>\n",
       "      <td>2차</td>\n",
       "      <td>valid</td>\n",
       "    </tr>\n",
       "    <tr>\n",
       "      <th>42</th>\n",
       "      <td>17020886_정영숙(2)SF</td>\n",
       "      <td>2차</td>\n",
       "      <td>valid</td>\n",
       "    </tr>\n",
       "    <tr>\n",
       "      <th>43</th>\n",
       "      <td>24490159_김우연(1)SF</td>\n",
       "      <td>2차</td>\n",
       "      <td>valid</td>\n",
       "    </tr>\n",
       "    <tr>\n",
       "      <th>44</th>\n",
       "      <td>24490159_김우연(4)YP</td>\n",
       "      <td>2차</td>\n",
       "      <td>valid</td>\n",
       "    </tr>\n",
       "    <tr>\n",
       "      <th>45</th>\n",
       "      <td>22360384_조남혜(1)SF</td>\n",
       "      <td>2차</td>\n",
       "      <td>valid</td>\n",
       "    </tr>\n",
       "    <tr>\n",
       "      <th>46</th>\n",
       "      <td>22360384_조남혜(2)YP</td>\n",
       "      <td>2차</td>\n",
       "      <td>valid</td>\n",
       "    </tr>\n",
       "    <tr>\n",
       "      <th>47</th>\n",
       "      <td>24084112_강휘남(1)SF</td>\n",
       "      <td>2차</td>\n",
       "      <td>valid</td>\n",
       "    </tr>\n",
       "    <tr>\n",
       "      <th>48</th>\n",
       "      <td>24084112_강휘남(3)YP</td>\n",
       "      <td>2차</td>\n",
       "      <td>valid</td>\n",
       "    </tr>\n",
       "    <tr>\n",
       "      <th>49</th>\n",
       "      <td>27255843_권영해(1)YP</td>\n",
       "      <td>2차</td>\n",
       "      <td>valid</td>\n",
       "    </tr>\n",
       "  </tbody>\n",
       "</table>\n",
       "</div>"
      ],
      "text/plain": [
       "                영상파일명 학습 차수 데이터 분리\n",
       "40  22767637_김남웅(3)YP    2차  valid\n",
       "41  17020886_정영숙(1)YP    2차  valid\n",
       "42  17020886_정영숙(2)SF    2차  valid\n",
       "43  24490159_김우연(1)SF    2차  valid\n",
       "44  24490159_김우연(4)YP    2차  valid\n",
       "45  22360384_조남혜(1)SF    2차  valid\n",
       "46  22360384_조남혜(2)YP    2차  valid\n",
       "47  24084112_강휘남(1)SF    2차  valid\n",
       "48  24084112_강휘남(3)YP    2차  valid\n",
       "49  27255843_권영해(1)YP    2차  valid"
      ]
     },
     "execution_count": 71,
     "metadata": {},
     "output_type": "execute_result"
    }
   ],
   "source": [
    "valid_df['영상파일명'] = valid_df['영상파일명'].str.replace(\" \",\"\")\n",
    "valid_df"
   ]
  },
  {
   "cell_type": "code",
   "execution_count": 4,
   "metadata": {},
   "outputs": [
    {
     "data": {
      "text/plain": [
       "'/mnt/c/Users/USER/Downloads'"
      ]
     },
     "execution_count": 4,
     "metadata": {},
     "output_type": "execute_result"
    }
   ],
   "source": [
    "os.getcwd()"
   ]
  },
  {
   "cell_type": "code",
   "execution_count": 79,
   "metadata": {},
   "outputs": [
    {
     "name": "stdout",
     "output_type": "stream",
     "text": [
      "Source directory: /mnt/c/Users/USER/Downloads/obj_Train_data\n",
      "Source directory: /mnt/c/Users/USER/Downloads/obj_Validation_data\n",
      "Destination directory: /home/rsrehab/cvat/serverless/pytorch/ultralytics/yolov5/nuclio/data\n"
     ]
    }
   ],
   "source": [
    "import shutil\n",
    "from pathlib import Path\n",
    "\n",
    "\n",
    "# 폴더 경로 \n",
    "src_folder1 = Path(os.getcwd()) / 'obj_Train_data' # Path 객체와 문자열을 직접 연결(+)하려고 할 때 TypeError가 발생\n",
    "src_folder2 = Path(os.getcwd()) / 'obj_Validation_data' # Path 객체를 사용하여 파일 경로를 생성하고 조작할 때는 / 연산자를 사용하여 부분 경로를 추가\n",
    "\n",
    "print(\"Source directory:\", src_folder1)\n",
    "print(\"Source directory:\", src_folder2)\n",
    "\n",
    "# dest_folder = '/home/rsrehab/cvat/serverless/pytorch/ultralytics/yolov5/nuclio/data'   에러났던 라인\n",
    "# src_folder1, src_folder2와 다르게, string으로 dest_folder를 처리해서 에러 발생. Path object로 처리하면 에러 해결.\n",
    "\n",
    "dest_folder = Path('/home/rsrehab/cvat/serverless/pytorch/ultralytics/yolov5/nuclio/data')\n",
    "print(\"Destination directory:\", dest_folder)\n"
   ]
  },
  {
   "cell_type": "code",
   "execution_count": 7,
   "metadata": {},
   "outputs": [],
   "source": [
    "# Yolo 폴더 구조에 맞게, 디렉토리 생성\n",
    "for name in ['images/2nd_train', 'labels/2nd_train', 'images/2nd_valid', 'labels/2nd_valid']:\n",
    "    os.makedirs(dest_folder + name, exist_ok=True)\n"
   ]
  },
  {
   "cell_type": "code",
   "execution_count": 91,
   "metadata": {},
   "outputs": [],
   "source": [
    "# file_list = glob(str(src_folder1) / '*.jpg') 에러 났던 라인\n",
    "jpg_file_list = glob(str(src_folder1 / '*.jpg'))\n",
    "jpg_file_names = [Path(file).name for file in jpg_file_list]\n",
    "txt_file_list = glob(str(src_folder1 / '*.txt'))\n",
    "txt_file_names = [Path(file).name for file in txt_file_list]"
   ]
  },
  {
   "cell_type": "code",
   "execution_count": 92,
   "metadata": {},
   "outputs": [
    {
     "name": "stdout",
     "output_type": "stream",
     "text": [
      "0\n",
      "0\n"
     ]
    }
   ],
   "source": [
    "print(len(jpg_file_names))\n",
    "print(len(txt_file_names))"
   ]
  },
  {
   "cell_type": "code",
   "execution_count": 29,
   "metadata": {},
   "outputs": [],
   "source": [
    "# if any(value in a_list for value in df['col1']) and (value == 'valid' for value in df['col2']): 내 코드\n",
    "# if any(value in a_list for value in df['col1']) and all(value == 'valid' for value in df['col2']): chat gpt가 고쳐준 로직 코드\n",
    "\n",
    "#for txt_name in txt_file_names:\n",
    "    \n",
    "    #if any(df_value in txt_name for df_value in valid_df['영상파일명']) and (value == 'valid' for value in df['데이터 분리']): # 코드 작동하지 않음!!!! \n",
    "        #src_file_path = src_folder1 / txt_name\n",
    "        #dest_file_path = dest_folder/ 'labels/2nd_train' / txt_name\n",
    "        \n",
    "        #if src_file_path.exists():\n",
    "            #shutil.move(str(src_file_path), str(dest_file_path))"
   ]
  },
  {
   "cell_type": "code",
   "execution_count": 82,
   "metadata": {},
   "outputs": [],
   "source": [
    "for jpg_name in jpg_file_names:\n",
    "    if any(df_value in jpg_name for df_value in train_df['영상파일명']):\n",
    "        src_file_path = src_folder1 / jpg_name\n",
    "        dest_file_path = dest_folder/ 'images/2nd_train' / jpg_name\n",
    "        \n",
    "        if src_file_path.exists():\n",
    "            shutil.move(str(src_file_path), str(dest_file_path))"
   ]
  },
  {
   "cell_type": "code",
   "execution_count": 83,
   "metadata": {},
   "outputs": [],
   "source": [
    "for txt_name in txt_file_names:\n",
    "    if any(df_value in txt_name for df_value in train_df['영상파일명']):\n",
    "        src_file_path = src_folder1 / txt_name\n",
    "        dest_file_path = dest_folder/ 'labels/2nd_train' / txt_name\n",
    "        \n",
    "        if src_file_path.exists():\n",
    "            shutil.move(str(src_file_path), str(dest_file_path))"
   ]
  },
  {
   "cell_type": "code",
   "execution_count": 74,
   "metadata": {},
   "outputs": [],
   "source": [
    "for jpg_name in jpg_file_names:\n",
    "    if any(df_value in jpg_name for df_value in valid_df['영상파일명']):\n",
    "        src_file_path = src_folder1 / jpg_name\n",
    "        dest_file_path = dest_folder/ 'images/2nd_valid' / jpg_name\n",
    "        \n",
    "        if src_file_path.exists():\n",
    "            shutil.move(str(src_file_path), str(dest_file_path))"
   ]
  },
  {
   "cell_type": "code",
   "execution_count": 75,
   "metadata": {},
   "outputs": [],
   "source": [
    "for txt_name in txt_file_names:\n",
    "    if any(df_value in txt_name for df_value in valid_df['영상파일명']):\n",
    "        src_file_path = src_folder1 / txt_name\n",
    "        dest_file_path = dest_folder/ 'labels/2nd_valid' / txt_name\n",
    "        \n",
    "        if src_file_path.exists():\n",
    "            shutil.move(str(src_file_path), str(dest_file_path))"
   ]
  },
  {
   "cell_type": "code",
   "execution_count": 84,
   "metadata": {},
   "outputs": [],
   "source": [
    "jpg_file_list2 = glob(str(src_folder2 / '*.jpg'))\n",
    "jpg_file_names2 = [Path(file).name for file in jpg_file_list2]\n",
    "txt_file_list2 = glob(str(src_folder2 / '*.txt'))\n",
    "txt_file_names2 = [Path(file).name for file in txt_file_list2]"
   ]
  },
  {
   "cell_type": "code",
   "execution_count": null,
   "metadata": {},
   "outputs": [],
   "source": [
    "txt_file_list2 = glob(str(src_folder2 / '*.txt'))\n",
    "txt_file_names2 = [Path(file).name for file in txt_file_list2]\n",
    "txt_file_names2"
   ]
  },
  {
   "cell_type": "code",
   "execution_count": 85,
   "metadata": {},
   "outputs": [
    {
     "name": "stdout",
     "output_type": "stream",
     "text": [
      "1016\n",
      "1016\n"
     ]
    }
   ],
   "source": [
    "print(len(jpg_file_names2))\n",
    "print(len(txt_file_names2))"
   ]
  },
  {
   "cell_type": "code",
   "execution_count": 86,
   "metadata": {},
   "outputs": [],
   "source": [
    "for jpg_name in jpg_file_names2:\n",
    "    if any(df_value in jpg_name for df_value in valid_df['영상파일명']):\n",
    "        src_file_path = src_folder2 / jpg_name\n",
    "        dest_file_path = dest_folder/ 'images/2nd_valid' / jpg_name\n",
    "        \n",
    "        if src_file_path.exists():\n",
    "            shutil.move(str(src_file_path), str(dest_file_path))"
   ]
  },
  {
   "cell_type": "code",
   "execution_count": 90,
   "metadata": {},
   "outputs": [],
   "source": [
    "for txt_name in txt_file_names2:\n",
    "    if any(df_value in txt_name for df_value in valid_df['영상파일명']):\n",
    "        src_file_path = src_folder2 / txt_name\n",
    "        dest_file_path = dest_folder/ 'labels/2nd_valid' / txt_name\n",
    "        \n",
    "        if src_file_path.exists():\n",
    "            shutil.move(str(src_file_path), str(dest_file_path))"
   ]
  },
  {
   "cell_type": "code",
   "execution_count": null,
   "metadata": {},
   "outputs": [],
   "source": []
  }
 ],
 "metadata": {
  "kernelspec": {
   "display_name": "akas01",
   "language": "python",
   "name": "python3"
  },
  "language_info": {
   "codemirror_mode": {
    "name": "ipython",
    "version": 3
   },
   "file_extension": ".py",
   "mimetype": "text/x-python",
   "name": "python",
   "nbconvert_exporter": "python",
   "pygments_lexer": "ipython3",
   "version": "3.8.18"
  }
 },
 "nbformat": 4,
 "nbformat_minor": 2
}
