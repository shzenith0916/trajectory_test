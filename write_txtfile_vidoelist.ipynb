{
 "cells": [
  {
   "cell_type": "code",
   "execution_count": 5,
   "metadata": {},
   "outputs": [
    {
     "name": "stdout",
     "output_type": "stream",
     "text": [
      "e:\\VFSS영상\\2023년\\23년 1월\n",
      "e:\\VFSS영상\\2023년\\23년 1월\\230103\n",
      "e:\\VFSS영상\\2023년\\23년 1월\\230104\n",
      "e:\\VFSS영상\\2023년\\23년 1월\\230106\n",
      "e:\\VFSS영상\\2023년\\23년 1월\\230110\n",
      "e:\\VFSS영상\\2023년\\23년 1월\\230111\n",
      "e:\\VFSS영상\\2023년\\23년 1월\\230113\n",
      "e:\\VFSS영상\\2023년\\23년 1월\\230117\n",
      "e:\\VFSS영상\\2023년\\23년 1월\\230118\n",
      "e:\\VFSS영상\\2023년\\23년 1월\\230120\n",
      "e:\\VFSS영상\\2023년\\23년 1월\\230125\n",
      "e:\\VFSS영상\\2023년\\23년 1월\\230127\n",
      "e:\\VFSS영상\\2023년\\23년 1월\\230131\n"
     ]
    }
   ],
   "source": [
    "import os \n",
    "\n",
    "video_dir = \"e:\\\\VFSS영상\\\\2023년\\\\23년 1월\"\n",
    "print(video_dir)\n",
    "file_type = \"*.avi\"\n",
    "\n",
    "for subdir in os.listdir(video_dir):\n",
    "    print(os.path.join(video_dir, subdir))\n"
   ]
  },
  {
   "cell_type": "code",
   "execution_count": null,
   "metadata": {},
   "outputs": [],
   "source": [
    "video_dir = \"e:\\\\VFSS영상\\\\2023년\\\\23년 1월\"\n",
    "print(f'video directory {video_dir}')\n",
    "file_type = \"*.avi\"\n",
    "\n",
    "for subdir in os.listdir(video_dir): # subdir -> 230103, 230104\n",
    "    subdir_path = os.path.join(video_dir, subdir)\n",
    "    print(f'video sub directory {subdir_path}')\n",
    "\n",
    "    if os.path.isdir(subdir_path): \n",
    "\n",
    "        for subsub_dir in os.listdir(subdir_path):\n",
    "            subsub_dir_path = os.path.join(subdir_path, subsub_dir)\n",
    "            print(f'video sub sub directory {subsub_dir_path}')\n",
    "\n",
    "# os.path.isdir function see xps file as a directory...but it cannot be skipped. Otherwise, gets an error. "
   ]
  },
  {
   "cell_type": "code",
   "execution_count": null,
   "metadata": {},
   "outputs": [],
   "source": [
    "import os \n",
    "\n",
    "video_dir = \"e:\\\\VFSS영상\\\\2023년\\\\23년 1월\"\n",
    "print(f'video directory {video_dir}')\n",
    "file_type = \".avi\"\n",
    "\n",
    "\n",
    "with open(\"video_list_23년1월_revise.txt\", \"a\", encoding='utf-8') as f:\n",
    "\n",
    "    for subdir in os.listdir(video_dir): \n",
    "        subdir_path = os.path.join(video_dir, subdir)\n",
    "        #print(f'video sub directory {subdir_path}')\n",
    "        \n",
    "        for subsub_dir in os.listdir(subdir_path):\n",
    "            subsub_dir_path = os.path.join(subdir_path, subsub_dir)\n",
    "            #print(f'video sub sub directory {subsub_dir_path}')\n",
    "            \n",
    "            if os.path.isdir(subsub_dir_path):\n",
    "                for file in os.listdir(subsub_dir_path):\n",
    "                    file_path = os.path.join(subsub_dir_path, file)\n",
    "\n",
    "                    # Check if file_path contains \"SF\" or \"YP\" and ends with \".avi\"\n",
    "                    if (\"SF\" in file_path or \"YP\" in file_path) and file_path.endswith(file_type):\n",
    "                        print(f'file path including \"SF\" or \"YP\" is:  \"\"\"{file_path}\"\"\" ')\n",
    "                        f.write(file_path + \"\\n\")"
   ]
  },
  {
   "cell_type": "code",
   "execution_count": null,
   "metadata": {},
   "outputs": [],
   "source": [
    "import os\n",
    "import glob\n",
    "\n",
    "video_dir = \"e:\\\\VFSS영상\\\\2023년\\\\23년 3월\" # 중간에 빈 공간, space 주의!! \n",
    "output_file = \"video_list_23년3월_revise.txt\"\n",
    "\n",
    "# Define the pattern for the files\n",
    "file_type = \".avi\"\n",
    "file_patterns = ['**/*SF*' + file_type, '**/*YP*' + file_type]\n",
    "\n",
    "\n",
    "# Use glob.glob to find all files that match the pattern\n",
    "# The '**' pattern is used to match any files in any subdirectory\n",
    "# 'recursive=True' allows glob to search in all subdirectories\n",
    "\n",
    "video_files = []\n",
    "for pattern in file_patterns:\n",
    "    full_pattern = os.path.join(video_dir, pattern)\n",
    "    video_files.extend(glob.glob(full_pattern, recursive=True))\n",
    "\n",
    "# Open the file outside of the for loop to append each entry\n",
    "with open(output_file, \"a\", encoding='utf-8') as f:\n",
    "    for video_file in video_files:\n",
    "        print(video_file)\n",
    "        f.write(video_file + \"\\n\")"
   ]
  }
 ],
 "metadata": {
  "kernelspec": {
   "display_name": "Python 3",
   "language": "python",
   "name": "python3"
  },
  "language_info": {
   "codemirror_mode": {
    "name": "ipython",
    "version": 3
   },
   "file_extension": ".py",
   "mimetype": "text/x-python",
   "name": "python",
   "nbconvert_exporter": "python",
   "pygments_lexer": "ipython3",
   "version": "3.8.10"
  }
 },
 "nbformat": 4,
 "nbformat_minor": 2
}
